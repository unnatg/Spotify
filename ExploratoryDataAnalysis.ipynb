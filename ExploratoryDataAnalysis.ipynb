{
 "cells": [
  {
   "cell_type": "code",
   "execution_count": 1,
   "id": "a63a17e2",
   "metadata": {
    "ExecuteTime": {
     "end_time": "2022-01-22T16:35:48.172498Z",
     "start_time": "2022-01-22T16:35:46.523383Z"
    }
   },
   "outputs": [],
   "source": [
    "import numpy as np\n",
    "import pandas as pd\n",
    "\n",
    "import matplotlib.pyplot as plt\n",
    "%matplotlib inline\n",
    "import seaborn as sns"
   ]
  },
  {
   "cell_type": "markdown",
   "id": "ea940911",
   "metadata": {},
   "source": [
    "# Data Preparation and Cleaning"
   ]
  },
  {
   "cell_type": "code",
   "execution_count": 2,
   "id": "a6e7c634",
   "metadata": {
    "ExecuteTime": {
     "end_time": "2022-01-22T16:35:48.220749Z",
     "start_time": "2022-01-22T16:35:48.175373Z"
    }
   },
   "outputs": [
    {
     "data": {
      "text/html": [
       "<div>\n",
       "<style scoped>\n",
       "    .dataframe tbody tr th:only-of-type {\n",
       "        vertical-align: middle;\n",
       "    }\n",
       "\n",
       "    .dataframe tbody tr th {\n",
       "        vertical-align: top;\n",
       "    }\n",
       "\n",
       "    .dataframe thead th {\n",
       "        text-align: right;\n",
       "    }\n",
       "</style>\n",
       "<table border=\"1\" class=\"dataframe\">\n",
       "  <thead>\n",
       "    <tr style=\"text-align: right;\">\n",
       "      <th></th>\n",
       "      <th>Index</th>\n",
       "      <th>EndTime</th>\n",
       "      <th>SongName</th>\n",
       "      <th>ArtistName</th>\n",
       "      <th>msPlayed</th>\n",
       "      <th>Popularity</th>\n",
       "      <th>SongID</th>\n",
       "      <th>Danceability</th>\n",
       "      <th>Energy</th>\n",
       "      <th>Key</th>\n",
       "      <th>Loudness</th>\n",
       "      <th>Mode</th>\n",
       "      <th>Speechiness</th>\n",
       "      <th>Acousticness</th>\n",
       "      <th>Instrumentalness</th>\n",
       "      <th>Liveness</th>\n",
       "      <th>Valence</th>\n",
       "      <th>Tempo</th>\n",
       "      <th>Duration_ms</th>\n",
       "    </tr>\n",
       "  </thead>\n",
       "  <tbody>\n",
       "    <tr>\n",
       "      <th>0</th>\n",
       "      <td>0</td>\n",
       "      <td>2021-02-02 02:08</td>\n",
       "      <td>Saiyaan Ji</td>\n",
       "      <td>Yo Yo Honey Singh</td>\n",
       "      <td>64760</td>\n",
       "      <td>62</td>\n",
       "      <td>39QJ7KkN3L8LLqQqsO85W1</td>\n",
       "      <td>0.896</td>\n",
       "      <td>0.678</td>\n",
       "      <td>0</td>\n",
       "      <td>-2.546</td>\n",
       "      <td>0</td>\n",
       "      <td>0.0815</td>\n",
       "      <td>0.0137</td>\n",
       "      <td>0.000041</td>\n",
       "      <td>0.1100</td>\n",
       "      <td>0.604</td>\n",
       "      <td>130.024</td>\n",
       "      <td>205450</td>\n",
       "    </tr>\n",
       "    <tr>\n",
       "      <th>1</th>\n",
       "      <td>1</td>\n",
       "      <td>2021-02-02 02:09</td>\n",
       "      <td>Falling</td>\n",
       "      <td>Trevor Daniel</td>\n",
       "      <td>23970</td>\n",
       "      <td>84</td>\n",
       "      <td>0Aqi7ArnBrGblW5T6p2jmD</td>\n",
       "      <td>0.785</td>\n",
       "      <td>0.431</td>\n",
       "      <td>10</td>\n",
       "      <td>-8.756</td>\n",
       "      <td>0</td>\n",
       "      <td>0.0364</td>\n",
       "      <td>0.1230</td>\n",
       "      <td>0.000000</td>\n",
       "      <td>0.0887</td>\n",
       "      <td>0.236</td>\n",
       "      <td>127.085</td>\n",
       "      <td>159382</td>\n",
       "    </tr>\n",
       "    <tr>\n",
       "      <th>2</th>\n",
       "      <td>2</td>\n",
       "      <td>2021-02-02 02:09</td>\n",
       "      <td>Shayad</td>\n",
       "      <td>Pritam</td>\n",
       "      <td>6210</td>\n",
       "      <td>72</td>\n",
       "      <td>1smFN2CLqGROu0J0UyvDfL</td>\n",
       "      <td>0.483</td>\n",
       "      <td>0.468</td>\n",
       "      <td>8</td>\n",
       "      <td>-7.642</td>\n",
       "      <td>1</td>\n",
       "      <td>0.0341</td>\n",
       "      <td>0.7850</td>\n",
       "      <td>0.000000</td>\n",
       "      <td>0.1520</td>\n",
       "      <td>0.319</td>\n",
       "      <td>135.864</td>\n",
       "      <td>247941</td>\n",
       "    </tr>\n",
       "    <tr>\n",
       "      <th>3</th>\n",
       "      <td>3</td>\n",
       "      <td>2021-02-02 02:14</td>\n",
       "      <td>Malang (Title Track) [From \"Malang - Unleash T...</td>\n",
       "      <td>Ved Sharma</td>\n",
       "      <td>287374</td>\n",
       "      <td>68</td>\n",
       "      <td>25MPTnqXQB1H6OkwSYUXWx</td>\n",
       "      <td>0.384</td>\n",
       "      <td>0.728</td>\n",
       "      <td>7</td>\n",
       "      <td>-6.503</td>\n",
       "      <td>0</td>\n",
       "      <td>0.0623</td>\n",
       "      <td>0.3290</td>\n",
       "      <td>0.000018</td>\n",
       "      <td>0.3290</td>\n",
       "      <td>0.311</td>\n",
       "      <td>156.396</td>\n",
       "      <td>287374</td>\n",
       "    </tr>\n",
       "    <tr>\n",
       "      <th>4</th>\n",
       "      <td>4</td>\n",
       "      <td>2021-02-02 02:14</td>\n",
       "      <td>Genda Phool (feat. Payal Dev)</td>\n",
       "      <td>Badshah</td>\n",
       "      <td>27705</td>\n",
       "      <td>67</td>\n",
       "      <td>0gzu5mm36VJH2Zqu8sQPTf</td>\n",
       "      <td>0.955</td>\n",
       "      <td>0.538</td>\n",
       "      <td>1</td>\n",
       "      <td>-8.394</td>\n",
       "      <td>1</td>\n",
       "      <td>0.0734</td>\n",
       "      <td>0.1320</td>\n",
       "      <td>0.001460</td>\n",
       "      <td>0.0704</td>\n",
       "      <td>0.837</td>\n",
       "      <td>116.977</td>\n",
       "      <td>170769</td>\n",
       "    </tr>\n",
       "  </tbody>\n",
       "</table>\n",
       "</div>"
      ],
      "text/plain": [
       "   Index           EndTime                                           SongName  \\\n",
       "0      0  2021-02-02 02:08                                         Saiyaan Ji   \n",
       "1      1  2021-02-02 02:09                                            Falling   \n",
       "2      2  2021-02-02 02:09                                             Shayad   \n",
       "3      3  2021-02-02 02:14  Malang (Title Track) [From \"Malang - Unleash T...   \n",
       "4      4  2021-02-02 02:14                      Genda Phool (feat. Payal Dev)   \n",
       "\n",
       "          ArtistName  msPlayed  Popularity                  SongID  \\\n",
       "0  Yo Yo Honey Singh     64760          62  39QJ7KkN3L8LLqQqsO85W1   \n",
       "1      Trevor Daniel     23970          84  0Aqi7ArnBrGblW5T6p2jmD   \n",
       "2             Pritam      6210          72  1smFN2CLqGROu0J0UyvDfL   \n",
       "3         Ved Sharma    287374          68  25MPTnqXQB1H6OkwSYUXWx   \n",
       "4            Badshah     27705          67  0gzu5mm36VJH2Zqu8sQPTf   \n",
       "\n",
       "   Danceability  Energy  Key  Loudness  Mode  Speechiness  Acousticness  \\\n",
       "0         0.896   0.678    0    -2.546     0       0.0815        0.0137   \n",
       "1         0.785   0.431   10    -8.756     0       0.0364        0.1230   \n",
       "2         0.483   0.468    8    -7.642     1       0.0341        0.7850   \n",
       "3         0.384   0.728    7    -6.503     0       0.0623        0.3290   \n",
       "4         0.955   0.538    1    -8.394     1       0.0734        0.1320   \n",
       "\n",
       "   Instrumentalness  Liveness  Valence    Tempo  Duration_ms  \n",
       "0          0.000041    0.1100    0.604  130.024       205450  \n",
       "1          0.000000    0.0887    0.236  127.085       159382  \n",
       "2          0.000000    0.1520    0.319  135.864       247941  \n",
       "3          0.000018    0.3290    0.311  156.396       287374  \n",
       "4          0.001460    0.0704    0.837  116.977       170769  "
      ]
     },
     "execution_count": 2,
     "metadata": {},
     "output_type": "execute_result"
    }
   ],
   "source": [
    "df = pd.read_csv(\"ExtractedSongInformation\\\\SpotifySongs.csv\")\n",
    "df.head()"
   ]
  },
  {
   "cell_type": "code",
   "execution_count": 3,
   "id": "d0f9e005",
   "metadata": {
    "ExecuteTime": {
     "end_time": "2022-01-22T16:35:48.236721Z",
     "start_time": "2022-01-22T16:35:48.223699Z"
    }
   },
   "outputs": [
    {
     "data": {
      "text/plain": [
       "(3731, 19)"
      ]
     },
     "execution_count": 3,
     "metadata": {},
     "output_type": "execute_result"
    }
   ],
   "source": [
    "df.shape"
   ]
  },
  {
   "cell_type": "code",
   "execution_count": 4,
   "id": "62e1bebf",
   "metadata": {
    "ExecuteTime": {
     "end_time": "2022-01-22T16:35:48.267737Z",
     "start_time": "2022-01-22T16:35:48.237739Z"
    }
   },
   "outputs": [
    {
     "name": "stdout",
     "output_type": "stream",
     "text": [
      "<class 'pandas.core.frame.DataFrame'>\n",
      "RangeIndex: 3731 entries, 0 to 3730\n",
      "Data columns (total 19 columns):\n",
      " #   Column            Non-Null Count  Dtype  \n",
      "---  ------            --------------  -----  \n",
      " 0   Index             3731 non-null   int64  \n",
      " 1   EndTime           3731 non-null   object \n",
      " 2   SongName          3731 non-null   object \n",
      " 3   ArtistName        3731 non-null   object \n",
      " 4   msPlayed          3731 non-null   int64  \n",
      " 5   Popularity        3731 non-null   int64  \n",
      " 6   SongID            3731 non-null   object \n",
      " 7   Danceability      3731 non-null   float64\n",
      " 8   Energy            3731 non-null   float64\n",
      " 9   Key               3731 non-null   int64  \n",
      " 10  Loudness          3731 non-null   float64\n",
      " 11  Mode              3731 non-null   int64  \n",
      " 12  Speechiness       3731 non-null   float64\n",
      " 13  Acousticness      3731 non-null   float64\n",
      " 14  Instrumentalness  3731 non-null   float64\n",
      " 15  Liveness          3731 non-null   float64\n",
      " 16  Valence           3731 non-null   float64\n",
      " 17  Tempo             3731 non-null   float64\n",
      " 18  Duration_ms       3731 non-null   int64  \n",
      "dtypes: float64(9), int64(6), object(4)\n",
      "memory usage: 553.9+ KB\n"
     ]
    }
   ],
   "source": [
    "df.info()\n",
    "# No null values present in the dataset"
   ]
  },
  {
   "cell_type": "code",
   "execution_count": 5,
   "id": "2b2c07e5",
   "metadata": {
    "ExecuteTime": {
     "end_time": "2022-01-22T16:35:48.295676Z",
     "start_time": "2022-01-22T16:35:48.268671Z"
    }
   },
   "outputs": [
    {
     "data": {
      "text/plain": [
       "Index               3731\n",
       "EndTime             2902\n",
       "SongName            1063\n",
       "ArtistName           561\n",
       "msPlayed            2266\n",
       "Popularity            77\n",
       "SongID              1031\n",
       "Danceability         505\n",
       "Energy               593\n",
       "Key                   12\n",
       "Loudness             973\n",
       "Mode                   2\n",
       "Speechiness          570\n",
       "Acousticness         762\n",
       "Instrumentalness     455\n",
       "Liveness             484\n",
       "Valence              623\n",
       "Tempo               1000\n",
       "Duration_ms         1011\n",
       "dtype: int64"
      ]
     },
     "execution_count": 5,
     "metadata": {},
     "output_type": "execute_result"
    }
   ],
   "source": [
    "# Number of unique elements in our DataFrame\n",
    "df.nunique()"
   ]
  },
  {
   "cell_type": "code",
   "execution_count": 6,
   "id": "242c3bc5",
   "metadata": {
    "ExecuteTime": {
     "end_time": "2022-01-22T16:35:48.311170Z",
     "start_time": "2022-01-22T16:35:48.296695Z"
    }
   },
   "outputs": [
    {
     "data": {
      "text/plain": [
       "ArtistName     561\n",
       "SongName      1063\n",
       "dtype: int64"
      ]
     },
     "execution_count": 6,
     "metadata": {},
     "output_type": "execute_result"
    }
   ],
   "source": [
    "# More specifically how many unique artist, songs\n",
    "df[[\"ArtistName\", \"SongName\"]].nunique()\n",
    "# We only have 514 unique artist and 1011 unique songs"
   ]
  },
  {
   "cell_type": "code",
   "execution_count": 7,
   "id": "26331c04",
   "metadata": {
    "ExecuteTime": {
     "end_time": "2022-01-22T16:35:48.327041Z",
     "start_time": "2022-01-22T16:35:48.311170Z"
    }
   },
   "outputs": [],
   "source": [
    "# Converting the End Time to a pandas datetime object to extract more features out of it\n",
    "df[\"EndTime\"] = pd.to_datetime(df[\"EndTime\"])"
   ]
  },
  {
   "cell_type": "code",
   "execution_count": 8,
   "id": "5414bcd4",
   "metadata": {
    "ExecuteTime": {
     "end_time": "2022-01-22T16:35:48.357026Z",
     "start_time": "2022-01-22T16:35:48.329091Z"
    }
   },
   "outputs": [],
   "source": [
    "df['Year'] = df[\"EndTime\"].dt.year\n",
    "df['Month'] = df[\"EndTime\"].dt.month\n",
    "df['Day'] = df[\"EndTime\"].dt.day\n",
    "df['Weekday'] = df[\"EndTime\"].dt.dayofweek\n",
    "df['Day name'] = df[\"EndTime\"].dt.day_name()\n",
    "df['Time'] = df[\"EndTime\"].dt.time\n",
    "df['Hours'] = df[\"EndTime\"].dt.hour\n",
    "df['Count'] = 1"
   ]
  },
  {
   "cell_type": "code",
   "execution_count": 9,
   "id": "59d0dfb8",
   "metadata": {
    "ExecuteTime": {
     "end_time": "2022-01-22T16:35:48.391883Z",
     "start_time": "2022-01-22T16:35:48.360993Z"
    }
   },
   "outputs": [
    {
     "data": {
      "text/html": [
       "<div>\n",
       "<style scoped>\n",
       "    .dataframe tbody tr th:only-of-type {\n",
       "        vertical-align: middle;\n",
       "    }\n",
       "\n",
       "    .dataframe tbody tr th {\n",
       "        vertical-align: top;\n",
       "    }\n",
       "\n",
       "    .dataframe thead th {\n",
       "        text-align: right;\n",
       "    }\n",
       "</style>\n",
       "<table border=\"1\" class=\"dataframe\">\n",
       "  <thead>\n",
       "    <tr style=\"text-align: right;\">\n",
       "      <th></th>\n",
       "      <th>Index</th>\n",
       "      <th>EndTime</th>\n",
       "      <th>SongName</th>\n",
       "      <th>ArtistName</th>\n",
       "      <th>msPlayed</th>\n",
       "      <th>Popularity</th>\n",
       "      <th>SongID</th>\n",
       "      <th>Danceability</th>\n",
       "      <th>Energy</th>\n",
       "      <th>Key</th>\n",
       "      <th>...</th>\n",
       "      <th>Tempo</th>\n",
       "      <th>Duration_ms</th>\n",
       "      <th>Year</th>\n",
       "      <th>Month</th>\n",
       "      <th>Day</th>\n",
       "      <th>Weekday</th>\n",
       "      <th>Day name</th>\n",
       "      <th>Time</th>\n",
       "      <th>Hours</th>\n",
       "      <th>Count</th>\n",
       "    </tr>\n",
       "  </thead>\n",
       "  <tbody>\n",
       "    <tr>\n",
       "      <th>0</th>\n",
       "      <td>0</td>\n",
       "      <td>2021-02-02 02:08:00</td>\n",
       "      <td>Saiyaan Ji</td>\n",
       "      <td>Yo Yo Honey Singh</td>\n",
       "      <td>64760</td>\n",
       "      <td>62</td>\n",
       "      <td>39QJ7KkN3L8LLqQqsO85W1</td>\n",
       "      <td>0.896</td>\n",
       "      <td>0.678</td>\n",
       "      <td>0</td>\n",
       "      <td>...</td>\n",
       "      <td>130.024</td>\n",
       "      <td>205450</td>\n",
       "      <td>2021</td>\n",
       "      <td>2</td>\n",
       "      <td>2</td>\n",
       "      <td>1</td>\n",
       "      <td>Tuesday</td>\n",
       "      <td>02:08:00</td>\n",
       "      <td>2</td>\n",
       "      <td>1</td>\n",
       "    </tr>\n",
       "    <tr>\n",
       "      <th>1</th>\n",
       "      <td>1</td>\n",
       "      <td>2021-02-02 02:09:00</td>\n",
       "      <td>Falling</td>\n",
       "      <td>Trevor Daniel</td>\n",
       "      <td>23970</td>\n",
       "      <td>84</td>\n",
       "      <td>0Aqi7ArnBrGblW5T6p2jmD</td>\n",
       "      <td>0.785</td>\n",
       "      <td>0.431</td>\n",
       "      <td>10</td>\n",
       "      <td>...</td>\n",
       "      <td>127.085</td>\n",
       "      <td>159382</td>\n",
       "      <td>2021</td>\n",
       "      <td>2</td>\n",
       "      <td>2</td>\n",
       "      <td>1</td>\n",
       "      <td>Tuesday</td>\n",
       "      <td>02:09:00</td>\n",
       "      <td>2</td>\n",
       "      <td>1</td>\n",
       "    </tr>\n",
       "    <tr>\n",
       "      <th>2</th>\n",
       "      <td>2</td>\n",
       "      <td>2021-02-02 02:09:00</td>\n",
       "      <td>Shayad</td>\n",
       "      <td>Pritam</td>\n",
       "      <td>6210</td>\n",
       "      <td>72</td>\n",
       "      <td>1smFN2CLqGROu0J0UyvDfL</td>\n",
       "      <td>0.483</td>\n",
       "      <td>0.468</td>\n",
       "      <td>8</td>\n",
       "      <td>...</td>\n",
       "      <td>135.864</td>\n",
       "      <td>247941</td>\n",
       "      <td>2021</td>\n",
       "      <td>2</td>\n",
       "      <td>2</td>\n",
       "      <td>1</td>\n",
       "      <td>Tuesday</td>\n",
       "      <td>02:09:00</td>\n",
       "      <td>2</td>\n",
       "      <td>1</td>\n",
       "    </tr>\n",
       "    <tr>\n",
       "      <th>3</th>\n",
       "      <td>3</td>\n",
       "      <td>2021-02-02 02:14:00</td>\n",
       "      <td>Malang (Title Track) [From \"Malang - Unleash T...</td>\n",
       "      <td>Ved Sharma</td>\n",
       "      <td>287374</td>\n",
       "      <td>68</td>\n",
       "      <td>25MPTnqXQB1H6OkwSYUXWx</td>\n",
       "      <td>0.384</td>\n",
       "      <td>0.728</td>\n",
       "      <td>7</td>\n",
       "      <td>...</td>\n",
       "      <td>156.396</td>\n",
       "      <td>287374</td>\n",
       "      <td>2021</td>\n",
       "      <td>2</td>\n",
       "      <td>2</td>\n",
       "      <td>1</td>\n",
       "      <td>Tuesday</td>\n",
       "      <td>02:14:00</td>\n",
       "      <td>2</td>\n",
       "      <td>1</td>\n",
       "    </tr>\n",
       "    <tr>\n",
       "      <th>4</th>\n",
       "      <td>4</td>\n",
       "      <td>2021-02-02 02:14:00</td>\n",
       "      <td>Genda Phool (feat. Payal Dev)</td>\n",
       "      <td>Badshah</td>\n",
       "      <td>27705</td>\n",
       "      <td>67</td>\n",
       "      <td>0gzu5mm36VJH2Zqu8sQPTf</td>\n",
       "      <td>0.955</td>\n",
       "      <td>0.538</td>\n",
       "      <td>1</td>\n",
       "      <td>...</td>\n",
       "      <td>116.977</td>\n",
       "      <td>170769</td>\n",
       "      <td>2021</td>\n",
       "      <td>2</td>\n",
       "      <td>2</td>\n",
       "      <td>1</td>\n",
       "      <td>Tuesday</td>\n",
       "      <td>02:14:00</td>\n",
       "      <td>2</td>\n",
       "      <td>1</td>\n",
       "    </tr>\n",
       "  </tbody>\n",
       "</table>\n",
       "<p>5 rows × 27 columns</p>\n",
       "</div>"
      ],
      "text/plain": [
       "   Index             EndTime  \\\n",
       "0      0 2021-02-02 02:08:00   \n",
       "1      1 2021-02-02 02:09:00   \n",
       "2      2 2021-02-02 02:09:00   \n",
       "3      3 2021-02-02 02:14:00   \n",
       "4      4 2021-02-02 02:14:00   \n",
       "\n",
       "                                            SongName         ArtistName  \\\n",
       "0                                         Saiyaan Ji  Yo Yo Honey Singh   \n",
       "1                                            Falling      Trevor Daniel   \n",
       "2                                             Shayad             Pritam   \n",
       "3  Malang (Title Track) [From \"Malang - Unleash T...         Ved Sharma   \n",
       "4                      Genda Phool (feat. Payal Dev)            Badshah   \n",
       "\n",
       "   msPlayed  Popularity                  SongID  Danceability  Energy  Key  \\\n",
       "0     64760          62  39QJ7KkN3L8LLqQqsO85W1         0.896   0.678    0   \n",
       "1     23970          84  0Aqi7ArnBrGblW5T6p2jmD         0.785   0.431   10   \n",
       "2      6210          72  1smFN2CLqGROu0J0UyvDfL         0.483   0.468    8   \n",
       "3    287374          68  25MPTnqXQB1H6OkwSYUXWx         0.384   0.728    7   \n",
       "4     27705          67  0gzu5mm36VJH2Zqu8sQPTf         0.955   0.538    1   \n",
       "\n",
       "   ...    Tempo  Duration_ms  Year  Month  Day  Weekday  Day name      Time  \\\n",
       "0  ...  130.024       205450  2021      2    2        1   Tuesday  02:08:00   \n",
       "1  ...  127.085       159382  2021      2    2        1   Tuesday  02:09:00   \n",
       "2  ...  135.864       247941  2021      2    2        1   Tuesday  02:09:00   \n",
       "3  ...  156.396       287374  2021      2    2        1   Tuesday  02:14:00   \n",
       "4  ...  116.977       170769  2021      2    2        1   Tuesday  02:14:00   \n",
       "\n",
       "   Hours  Count  \n",
       "0      2      1  \n",
       "1      2      1  \n",
       "2      2      1  \n",
       "3      2      1  \n",
       "4      2      1  \n",
       "\n",
       "[5 rows x 27 columns]"
      ]
     },
     "execution_count": 9,
     "metadata": {},
     "output_type": "execute_result"
    }
   ],
   "source": [
    "df.head()"
   ]
  },
  {
   "cell_type": "code",
   "execution_count": 10,
   "id": "b162cfa7",
   "metadata": {
    "ExecuteTime": {
     "end_time": "2022-01-22T16:35:48.409874Z",
     "start_time": "2022-01-22T16:35:48.394876Z"
    }
   },
   "outputs": [
    {
     "data": {
      "text/plain": [
       "Index(['Index', 'EndTime', 'SongName', 'ArtistName', 'msPlayed', 'Popularity',\n",
       "       'SongID', 'Danceability', 'Energy', 'Key', 'Loudness', 'Mode',\n",
       "       'Speechiness', 'Acousticness', 'Instrumentalness', 'Liveness',\n",
       "       'Valence', 'Tempo', 'Duration_ms', 'Year', 'Month', 'Day', 'Weekday',\n",
       "       'Day name', 'Time', 'Hours', 'Count'],\n",
       "      dtype='object')"
      ]
     },
     "execution_count": 10,
     "metadata": {},
     "output_type": "execute_result"
    }
   ],
   "source": [
    "df.columns"
   ]
  },
  {
   "cell_type": "code",
   "execution_count": 11,
   "id": "14c5762d",
   "metadata": {
    "ExecuteTime": {
     "end_time": "2022-01-22T16:35:48.425794Z",
     "start_time": "2022-01-22T16:35:48.409874Z"
    }
   },
   "outputs": [
    {
     "data": {
      "text/plain": [
       "Index(['Index', 'EndTime', 'SongName', 'ArtistName', 'msPlayed', 'Popularity',\n",
       "       'SongID', 'Danceability', 'Energy', 'Key', 'Loudness', 'Mode',\n",
       "       'Speechiness', 'Acousticness', 'Instrumentalness', 'Liveness',\n",
       "       'Valence', 'Tempo', 'Duration_ms', 'Year', 'Month', 'Day', 'Weekday',\n",
       "       'Day name', 'Time', 'Hours', 'Count'],\n",
       "      dtype='object')"
      ]
     },
     "execution_count": 11,
     "metadata": {},
     "output_type": "execute_result"
    }
   ],
   "source": [
    "df.columns"
   ]
  },
  {
   "cell_type": "code",
   "execution_count": 12,
   "id": "1d210112",
   "metadata": {
    "ExecuteTime": {
     "end_time": "2022-01-22T16:35:48.441703Z",
     "start_time": "2022-01-22T16:35:48.426717Z"
    }
   },
   "outputs": [],
   "source": [
    "df[\"Time Played (HH-MM-SS)\"] = pd.to_timedelta(df[\"msPlayed\"], unit=\"ms\")"
   ]
  },
  {
   "cell_type": "code",
   "execution_count": 13,
   "id": "e3ce7625",
   "metadata": {
    "ExecuteTime": {
     "end_time": "2022-01-22T16:35:48.483584Z",
     "start_time": "2022-01-22T16:35:48.441703Z"
    }
   },
   "outputs": [
    {
     "data": {
      "text/html": [
       "<div>\n",
       "<style scoped>\n",
       "    .dataframe tbody tr th:only-of-type {\n",
       "        vertical-align: middle;\n",
       "    }\n",
       "\n",
       "    .dataframe tbody tr th {\n",
       "        vertical-align: top;\n",
       "    }\n",
       "\n",
       "    .dataframe thead th {\n",
       "        text-align: right;\n",
       "    }\n",
       "</style>\n",
       "<table border=\"1\" class=\"dataframe\">\n",
       "  <thead>\n",
       "    <tr style=\"text-align: right;\">\n",
       "      <th></th>\n",
       "      <th>Index</th>\n",
       "      <th>EndTime</th>\n",
       "      <th>SongName</th>\n",
       "      <th>ArtistName</th>\n",
       "      <th>msPlayed</th>\n",
       "      <th>Popularity</th>\n",
       "      <th>SongID</th>\n",
       "      <th>Danceability</th>\n",
       "      <th>Energy</th>\n",
       "      <th>Key</th>\n",
       "      <th>...</th>\n",
       "      <th>Duration_ms</th>\n",
       "      <th>Year</th>\n",
       "      <th>Month</th>\n",
       "      <th>Day</th>\n",
       "      <th>Weekday</th>\n",
       "      <th>Day name</th>\n",
       "      <th>Time</th>\n",
       "      <th>Hours</th>\n",
       "      <th>Count</th>\n",
       "      <th>Time Played (HH-MM-SS)</th>\n",
       "    </tr>\n",
       "  </thead>\n",
       "  <tbody>\n",
       "    <tr>\n",
       "      <th>0</th>\n",
       "      <td>0</td>\n",
       "      <td>2021-02-02 02:08:00</td>\n",
       "      <td>Saiyaan Ji</td>\n",
       "      <td>Yo Yo Honey Singh</td>\n",
       "      <td>64760</td>\n",
       "      <td>62</td>\n",
       "      <td>39QJ7KkN3L8LLqQqsO85W1</td>\n",
       "      <td>0.896</td>\n",
       "      <td>0.678</td>\n",
       "      <td>0</td>\n",
       "      <td>...</td>\n",
       "      <td>205450</td>\n",
       "      <td>2021</td>\n",
       "      <td>2</td>\n",
       "      <td>2</td>\n",
       "      <td>1</td>\n",
       "      <td>Tuesday</td>\n",
       "      <td>02:08:00</td>\n",
       "      <td>2</td>\n",
       "      <td>1</td>\n",
       "      <td>0 days 00:01:04.760000</td>\n",
       "    </tr>\n",
       "    <tr>\n",
       "      <th>1</th>\n",
       "      <td>1</td>\n",
       "      <td>2021-02-02 02:09:00</td>\n",
       "      <td>Falling</td>\n",
       "      <td>Trevor Daniel</td>\n",
       "      <td>23970</td>\n",
       "      <td>84</td>\n",
       "      <td>0Aqi7ArnBrGblW5T6p2jmD</td>\n",
       "      <td>0.785</td>\n",
       "      <td>0.431</td>\n",
       "      <td>10</td>\n",
       "      <td>...</td>\n",
       "      <td>159382</td>\n",
       "      <td>2021</td>\n",
       "      <td>2</td>\n",
       "      <td>2</td>\n",
       "      <td>1</td>\n",
       "      <td>Tuesday</td>\n",
       "      <td>02:09:00</td>\n",
       "      <td>2</td>\n",
       "      <td>1</td>\n",
       "      <td>0 days 00:00:23.970000</td>\n",
       "    </tr>\n",
       "    <tr>\n",
       "      <th>2</th>\n",
       "      <td>2</td>\n",
       "      <td>2021-02-02 02:09:00</td>\n",
       "      <td>Shayad</td>\n",
       "      <td>Pritam</td>\n",
       "      <td>6210</td>\n",
       "      <td>72</td>\n",
       "      <td>1smFN2CLqGROu0J0UyvDfL</td>\n",
       "      <td>0.483</td>\n",
       "      <td>0.468</td>\n",
       "      <td>8</td>\n",
       "      <td>...</td>\n",
       "      <td>247941</td>\n",
       "      <td>2021</td>\n",
       "      <td>2</td>\n",
       "      <td>2</td>\n",
       "      <td>1</td>\n",
       "      <td>Tuesday</td>\n",
       "      <td>02:09:00</td>\n",
       "      <td>2</td>\n",
       "      <td>1</td>\n",
       "      <td>0 days 00:00:06.210000</td>\n",
       "    </tr>\n",
       "    <tr>\n",
       "      <th>3</th>\n",
       "      <td>3</td>\n",
       "      <td>2021-02-02 02:14:00</td>\n",
       "      <td>Malang (Title Track) [From \"Malang - Unleash T...</td>\n",
       "      <td>Ved Sharma</td>\n",
       "      <td>287374</td>\n",
       "      <td>68</td>\n",
       "      <td>25MPTnqXQB1H6OkwSYUXWx</td>\n",
       "      <td>0.384</td>\n",
       "      <td>0.728</td>\n",
       "      <td>7</td>\n",
       "      <td>...</td>\n",
       "      <td>287374</td>\n",
       "      <td>2021</td>\n",
       "      <td>2</td>\n",
       "      <td>2</td>\n",
       "      <td>1</td>\n",
       "      <td>Tuesday</td>\n",
       "      <td>02:14:00</td>\n",
       "      <td>2</td>\n",
       "      <td>1</td>\n",
       "      <td>0 days 00:04:47.374000</td>\n",
       "    </tr>\n",
       "    <tr>\n",
       "      <th>4</th>\n",
       "      <td>4</td>\n",
       "      <td>2021-02-02 02:14:00</td>\n",
       "      <td>Genda Phool (feat. Payal Dev)</td>\n",
       "      <td>Badshah</td>\n",
       "      <td>27705</td>\n",
       "      <td>67</td>\n",
       "      <td>0gzu5mm36VJH2Zqu8sQPTf</td>\n",
       "      <td>0.955</td>\n",
       "      <td>0.538</td>\n",
       "      <td>1</td>\n",
       "      <td>...</td>\n",
       "      <td>170769</td>\n",
       "      <td>2021</td>\n",
       "      <td>2</td>\n",
       "      <td>2</td>\n",
       "      <td>1</td>\n",
       "      <td>Tuesday</td>\n",
       "      <td>02:14:00</td>\n",
       "      <td>2</td>\n",
       "      <td>1</td>\n",
       "      <td>0 days 00:00:27.705000</td>\n",
       "    </tr>\n",
       "  </tbody>\n",
       "</table>\n",
       "<p>5 rows × 28 columns</p>\n",
       "</div>"
      ],
      "text/plain": [
       "   Index             EndTime  \\\n",
       "0      0 2021-02-02 02:08:00   \n",
       "1      1 2021-02-02 02:09:00   \n",
       "2      2 2021-02-02 02:09:00   \n",
       "3      3 2021-02-02 02:14:00   \n",
       "4      4 2021-02-02 02:14:00   \n",
       "\n",
       "                                            SongName         ArtistName  \\\n",
       "0                                         Saiyaan Ji  Yo Yo Honey Singh   \n",
       "1                                            Falling      Trevor Daniel   \n",
       "2                                             Shayad             Pritam   \n",
       "3  Malang (Title Track) [From \"Malang - Unleash T...         Ved Sharma   \n",
       "4                      Genda Phool (feat. Payal Dev)            Badshah   \n",
       "\n",
       "   msPlayed  Popularity                  SongID  Danceability  Energy  Key  \\\n",
       "0     64760          62  39QJ7KkN3L8LLqQqsO85W1         0.896   0.678    0   \n",
       "1     23970          84  0Aqi7ArnBrGblW5T6p2jmD         0.785   0.431   10   \n",
       "2      6210          72  1smFN2CLqGROu0J0UyvDfL         0.483   0.468    8   \n",
       "3    287374          68  25MPTnqXQB1H6OkwSYUXWx         0.384   0.728    7   \n",
       "4     27705          67  0gzu5mm36VJH2Zqu8sQPTf         0.955   0.538    1   \n",
       "\n",
       "   ...  Duration_ms  Year  Month  Day  Weekday  Day name      Time  Hours  \\\n",
       "0  ...       205450  2021      2    2        1   Tuesday  02:08:00      2   \n",
       "1  ...       159382  2021      2    2        1   Tuesday  02:09:00      2   \n",
       "2  ...       247941  2021      2    2        1   Tuesday  02:09:00      2   \n",
       "3  ...       287374  2021      2    2        1   Tuesday  02:14:00      2   \n",
       "4  ...       170769  2021      2    2        1   Tuesday  02:14:00      2   \n",
       "\n",
       "   Count  Time Played (HH-MM-SS)  \n",
       "0      1  0 days 00:01:04.760000  \n",
       "1      1  0 days 00:00:23.970000  \n",
       "2      1  0 days 00:00:06.210000  \n",
       "3      1  0 days 00:04:47.374000  \n",
       "4      1  0 days 00:00:27.705000  \n",
       "\n",
       "[5 rows x 28 columns]"
      ]
     },
     "execution_count": 13,
     "metadata": {},
     "output_type": "execute_result"
    }
   ],
   "source": [
    "df.head()"
   ]
  },
  {
   "cell_type": "code",
   "execution_count": 14,
   "id": "da56c811",
   "metadata": {
    "ExecuteTime": {
     "end_time": "2022-01-22T16:35:48.620751Z",
     "start_time": "2022-01-22T16:35:48.483584Z"
    }
   },
   "outputs": [],
   "source": [
    "def hours(td):\n",
    "    '''To get the hour information'''\n",
    "    return td.seconds / 3600\n",
    "\n",
    "\n",
    "def minutes(td):\n",
    "    '''To get the minutes information'''\n",
    "    return (td.seconds / 60) % 60\n",
    "\n",
    "\n",
    "df[\"Listening Time (Hours)\"] = df[\"Time Played (HH-MM-SS)\"].apply(hours).round(\n",
    "    3)\n",
    "df[\"Listening Time (Minutes)\"] = df[\"Time Played (HH-MM-SS)\"].apply(\n",
    "    minutes).round(3)"
   ]
  },
  {
   "cell_type": "code",
   "execution_count": 15,
   "id": "55443d9a",
   "metadata": {
    "ExecuteTime": {
     "end_time": "2022-01-22T16:35:48.652185Z",
     "start_time": "2022-01-22T16:35:48.623777Z"
    }
   },
   "outputs": [
    {
     "data": {
      "text/html": [
       "<div>\n",
       "<style scoped>\n",
       "    .dataframe tbody tr th:only-of-type {\n",
       "        vertical-align: middle;\n",
       "    }\n",
       "\n",
       "    .dataframe tbody tr th {\n",
       "        vertical-align: top;\n",
       "    }\n",
       "\n",
       "    .dataframe thead th {\n",
       "        text-align: right;\n",
       "    }\n",
       "</style>\n",
       "<table border=\"1\" class=\"dataframe\">\n",
       "  <thead>\n",
       "    <tr style=\"text-align: right;\">\n",
       "      <th></th>\n",
       "      <th>Index</th>\n",
       "      <th>EndTime</th>\n",
       "      <th>SongName</th>\n",
       "      <th>ArtistName</th>\n",
       "      <th>msPlayed</th>\n",
       "      <th>Popularity</th>\n",
       "      <th>SongID</th>\n",
       "      <th>Danceability</th>\n",
       "      <th>Energy</th>\n",
       "      <th>Key</th>\n",
       "      <th>...</th>\n",
       "      <th>Month</th>\n",
       "      <th>Day</th>\n",
       "      <th>Weekday</th>\n",
       "      <th>Day name</th>\n",
       "      <th>Time</th>\n",
       "      <th>Hours</th>\n",
       "      <th>Count</th>\n",
       "      <th>Time Played (HH-MM-SS)</th>\n",
       "      <th>Listening Time (Hours)</th>\n",
       "      <th>Listening Time (Minutes)</th>\n",
       "    </tr>\n",
       "  </thead>\n",
       "  <tbody>\n",
       "    <tr>\n",
       "      <th>0</th>\n",
       "      <td>0</td>\n",
       "      <td>2021-02-02 02:08:00</td>\n",
       "      <td>Saiyaan Ji</td>\n",
       "      <td>Yo Yo Honey Singh</td>\n",
       "      <td>64760</td>\n",
       "      <td>62</td>\n",
       "      <td>39QJ7KkN3L8LLqQqsO85W1</td>\n",
       "      <td>0.896</td>\n",
       "      <td>0.678</td>\n",
       "      <td>0</td>\n",
       "      <td>...</td>\n",
       "      <td>2</td>\n",
       "      <td>2</td>\n",
       "      <td>1</td>\n",
       "      <td>Tuesday</td>\n",
       "      <td>02:08:00</td>\n",
       "      <td>2</td>\n",
       "      <td>1</td>\n",
       "      <td>0 days 00:01:04.760000</td>\n",
       "      <td>0.018</td>\n",
       "      <td>1.067</td>\n",
       "    </tr>\n",
       "    <tr>\n",
       "      <th>1</th>\n",
       "      <td>1</td>\n",
       "      <td>2021-02-02 02:09:00</td>\n",
       "      <td>Falling</td>\n",
       "      <td>Trevor Daniel</td>\n",
       "      <td>23970</td>\n",
       "      <td>84</td>\n",
       "      <td>0Aqi7ArnBrGblW5T6p2jmD</td>\n",
       "      <td>0.785</td>\n",
       "      <td>0.431</td>\n",
       "      <td>10</td>\n",
       "      <td>...</td>\n",
       "      <td>2</td>\n",
       "      <td>2</td>\n",
       "      <td>1</td>\n",
       "      <td>Tuesday</td>\n",
       "      <td>02:09:00</td>\n",
       "      <td>2</td>\n",
       "      <td>1</td>\n",
       "      <td>0 days 00:00:23.970000</td>\n",
       "      <td>0.006</td>\n",
       "      <td>0.383</td>\n",
       "    </tr>\n",
       "    <tr>\n",
       "      <th>2</th>\n",
       "      <td>2</td>\n",
       "      <td>2021-02-02 02:09:00</td>\n",
       "      <td>Shayad</td>\n",
       "      <td>Pritam</td>\n",
       "      <td>6210</td>\n",
       "      <td>72</td>\n",
       "      <td>1smFN2CLqGROu0J0UyvDfL</td>\n",
       "      <td>0.483</td>\n",
       "      <td>0.468</td>\n",
       "      <td>8</td>\n",
       "      <td>...</td>\n",
       "      <td>2</td>\n",
       "      <td>2</td>\n",
       "      <td>1</td>\n",
       "      <td>Tuesday</td>\n",
       "      <td>02:09:00</td>\n",
       "      <td>2</td>\n",
       "      <td>1</td>\n",
       "      <td>0 days 00:00:06.210000</td>\n",
       "      <td>0.002</td>\n",
       "      <td>0.100</td>\n",
       "    </tr>\n",
       "    <tr>\n",
       "      <th>3</th>\n",
       "      <td>3</td>\n",
       "      <td>2021-02-02 02:14:00</td>\n",
       "      <td>Malang (Title Track) [From \"Malang - Unleash T...</td>\n",
       "      <td>Ved Sharma</td>\n",
       "      <td>287374</td>\n",
       "      <td>68</td>\n",
       "      <td>25MPTnqXQB1H6OkwSYUXWx</td>\n",
       "      <td>0.384</td>\n",
       "      <td>0.728</td>\n",
       "      <td>7</td>\n",
       "      <td>...</td>\n",
       "      <td>2</td>\n",
       "      <td>2</td>\n",
       "      <td>1</td>\n",
       "      <td>Tuesday</td>\n",
       "      <td>02:14:00</td>\n",
       "      <td>2</td>\n",
       "      <td>1</td>\n",
       "      <td>0 days 00:04:47.374000</td>\n",
       "      <td>0.080</td>\n",
       "      <td>4.783</td>\n",
       "    </tr>\n",
       "    <tr>\n",
       "      <th>4</th>\n",
       "      <td>4</td>\n",
       "      <td>2021-02-02 02:14:00</td>\n",
       "      <td>Genda Phool (feat. Payal Dev)</td>\n",
       "      <td>Badshah</td>\n",
       "      <td>27705</td>\n",
       "      <td>67</td>\n",
       "      <td>0gzu5mm36VJH2Zqu8sQPTf</td>\n",
       "      <td>0.955</td>\n",
       "      <td>0.538</td>\n",
       "      <td>1</td>\n",
       "      <td>...</td>\n",
       "      <td>2</td>\n",
       "      <td>2</td>\n",
       "      <td>1</td>\n",
       "      <td>Tuesday</td>\n",
       "      <td>02:14:00</td>\n",
       "      <td>2</td>\n",
       "      <td>1</td>\n",
       "      <td>0 days 00:00:27.705000</td>\n",
       "      <td>0.008</td>\n",
       "      <td>0.450</td>\n",
       "    </tr>\n",
       "  </tbody>\n",
       "</table>\n",
       "<p>5 rows × 30 columns</p>\n",
       "</div>"
      ],
      "text/plain": [
       "   Index             EndTime  \\\n",
       "0      0 2021-02-02 02:08:00   \n",
       "1      1 2021-02-02 02:09:00   \n",
       "2      2 2021-02-02 02:09:00   \n",
       "3      3 2021-02-02 02:14:00   \n",
       "4      4 2021-02-02 02:14:00   \n",
       "\n",
       "                                            SongName         ArtistName  \\\n",
       "0                                         Saiyaan Ji  Yo Yo Honey Singh   \n",
       "1                                            Falling      Trevor Daniel   \n",
       "2                                             Shayad             Pritam   \n",
       "3  Malang (Title Track) [From \"Malang - Unleash T...         Ved Sharma   \n",
       "4                      Genda Phool (feat. Payal Dev)            Badshah   \n",
       "\n",
       "   msPlayed  Popularity                  SongID  Danceability  Energy  Key  \\\n",
       "0     64760          62  39QJ7KkN3L8LLqQqsO85W1         0.896   0.678    0   \n",
       "1     23970          84  0Aqi7ArnBrGblW5T6p2jmD         0.785   0.431   10   \n",
       "2      6210          72  1smFN2CLqGROu0J0UyvDfL         0.483   0.468    8   \n",
       "3    287374          68  25MPTnqXQB1H6OkwSYUXWx         0.384   0.728    7   \n",
       "4     27705          67  0gzu5mm36VJH2Zqu8sQPTf         0.955   0.538    1   \n",
       "\n",
       "   ...  Month  Day  Weekday  Day name      Time  Hours  Count  \\\n",
       "0  ...      2    2        1   Tuesday  02:08:00      2      1   \n",
       "1  ...      2    2        1   Tuesday  02:09:00      2      1   \n",
       "2  ...      2    2        1   Tuesday  02:09:00      2      1   \n",
       "3  ...      2    2        1   Tuesday  02:14:00      2      1   \n",
       "4  ...      2    2        1   Tuesday  02:14:00      2      1   \n",
       "\n",
       "   Time Played (HH-MM-SS)  Listening Time (Hours)  Listening Time (Minutes)  \n",
       "0  0 days 00:01:04.760000                   0.018                     1.067  \n",
       "1  0 days 00:00:23.970000                   0.006                     0.383  \n",
       "2  0 days 00:00:06.210000                   0.002                     0.100  \n",
       "3  0 days 00:04:47.374000                   0.080                     4.783  \n",
       "4  0 days 00:00:27.705000                   0.008                     0.450  \n",
       "\n",
       "[5 rows x 30 columns]"
      ]
     },
     "execution_count": 15,
     "metadata": {},
     "output_type": "execute_result"
    }
   ],
   "source": [
    "df.head()"
   ]
  },
  {
   "cell_type": "code",
   "execution_count": 16,
   "id": "8dd5b2aa",
   "metadata": {
    "ExecuteTime": {
     "end_time": "2022-01-22T16:35:48.680988Z",
     "start_time": "2022-01-22T16:35:48.652185Z"
    }
   },
   "outputs": [
    {
     "data": {
      "text/html": [
       "<div>\n",
       "<style scoped>\n",
       "    .dataframe tbody tr th:only-of-type {\n",
       "        vertical-align: middle;\n",
       "    }\n",
       "\n",
       "    .dataframe tbody tr th {\n",
       "        vertical-align: top;\n",
       "    }\n",
       "\n",
       "    .dataframe thead th {\n",
       "        text-align: right;\n",
       "    }\n",
       "</style>\n",
       "<table border=\"1\" class=\"dataframe\">\n",
       "  <thead>\n",
       "    <tr style=\"text-align: right;\">\n",
       "      <th></th>\n",
       "      <th>Index</th>\n",
       "      <th>EndTime</th>\n",
       "      <th>SongName</th>\n",
       "      <th>ArtistName</th>\n",
       "      <th>msPlayed</th>\n",
       "      <th>Popularity</th>\n",
       "      <th>SongID</th>\n",
       "      <th>Danceability</th>\n",
       "      <th>Energy</th>\n",
       "      <th>Key</th>\n",
       "      <th>...</th>\n",
       "      <th>Month</th>\n",
       "      <th>Day</th>\n",
       "      <th>Weekday</th>\n",
       "      <th>Day name</th>\n",
       "      <th>Time</th>\n",
       "      <th>Hours</th>\n",
       "      <th>Count</th>\n",
       "      <th>Time Played (HH-MM-SS)</th>\n",
       "      <th>Listening Time (Hours)</th>\n",
       "      <th>Listening Time (Minutes)</th>\n",
       "    </tr>\n",
       "  </thead>\n",
       "  <tbody>\n",
       "    <tr>\n",
       "      <th>3726</th>\n",
       "      <td>3726</td>\n",
       "      <td>2021-09-17 09:17:00</td>\n",
       "      <td>Back To Black</td>\n",
       "      <td>Amy Winehouse</td>\n",
       "      <td>241293</td>\n",
       "      <td>79</td>\n",
       "      <td>18XlJEroUwFo0tLZxscgXE</td>\n",
       "      <td>0.766</td>\n",
       "      <td>0.706</td>\n",
       "      <td>7</td>\n",
       "      <td>...</td>\n",
       "      <td>9</td>\n",
       "      <td>17</td>\n",
       "      <td>4</td>\n",
       "      <td>Friday</td>\n",
       "      <td>09:17:00</td>\n",
       "      <td>9</td>\n",
       "      <td>1</td>\n",
       "      <td>0 days 00:04:01.293000</td>\n",
       "      <td>0.067</td>\n",
       "      <td>4.017</td>\n",
       "    </tr>\n",
       "    <tr>\n",
       "      <th>3727</th>\n",
       "      <td>3727</td>\n",
       "      <td>2021-09-17 09:20:00</td>\n",
       "      <td>Where Do We Go From Here</td>\n",
       "      <td>Charles Bradley</td>\n",
       "      <td>191337</td>\n",
       "      <td>69</td>\n",
       "      <td>0fsEFwLSJTSHSawhe864Cp</td>\n",
       "      <td>0.735</td>\n",
       "      <td>0.784</td>\n",
       "      <td>11</td>\n",
       "      <td>...</td>\n",
       "      <td>9</td>\n",
       "      <td>17</td>\n",
       "      <td>4</td>\n",
       "      <td>Friday</td>\n",
       "      <td>09:20:00</td>\n",
       "      <td>9</td>\n",
       "      <td>1</td>\n",
       "      <td>0 days 00:03:11.337000</td>\n",
       "      <td>0.053</td>\n",
       "      <td>3.183</td>\n",
       "    </tr>\n",
       "    <tr>\n",
       "      <th>3728</th>\n",
       "      <td>3728</td>\n",
       "      <td>2021-09-17 09:25:00</td>\n",
       "      <td>Way down We Go - Stripped</td>\n",
       "      <td>KALEO</td>\n",
       "      <td>208213</td>\n",
       "      <td>60</td>\n",
       "      <td>5I2UElY0XPnPhQhBTxBcq3</td>\n",
       "      <td>0.701</td>\n",
       "      <td>0.463</td>\n",
       "      <td>6</td>\n",
       "      <td>...</td>\n",
       "      <td>9</td>\n",
       "      <td>17</td>\n",
       "      <td>4</td>\n",
       "      <td>Friday</td>\n",
       "      <td>09:25:00</td>\n",
       "      <td>9</td>\n",
       "      <td>1</td>\n",
       "      <td>0 days 00:03:28.213000</td>\n",
       "      <td>0.058</td>\n",
       "      <td>3.467</td>\n",
       "    </tr>\n",
       "    <tr>\n",
       "      <th>3729</th>\n",
       "      <td>3729</td>\n",
       "      <td>2021-09-17 09:28:00</td>\n",
       "      <td>Let's Talk It Over</td>\n",
       "      <td>Lee Fields</td>\n",
       "      <td>180200</td>\n",
       "      <td>54</td>\n",
       "      <td>0o2lMW2T77pq8utWLQ4b2U</td>\n",
       "      <td>0.595</td>\n",
       "      <td>0.628</td>\n",
       "      <td>1</td>\n",
       "      <td>...</td>\n",
       "      <td>9</td>\n",
       "      <td>17</td>\n",
       "      <td>4</td>\n",
       "      <td>Friday</td>\n",
       "      <td>09:28:00</td>\n",
       "      <td>9</td>\n",
       "      <td>1</td>\n",
       "      <td>0 days 00:03:00.200000</td>\n",
       "      <td>0.050</td>\n",
       "      <td>3.000</td>\n",
       "    </tr>\n",
       "    <tr>\n",
       "      <th>3730</th>\n",
       "      <td>3730</td>\n",
       "      <td>2021-09-17 09:34:00</td>\n",
       "      <td>The Gentle Rain - RJD2 Remix</td>\n",
       "      <td>Astrud Gilberto</td>\n",
       "      <td>359413</td>\n",
       "      <td>56</td>\n",
       "      <td>5TuICc3rZeDaNP7mpRqlFj</td>\n",
       "      <td>0.544</td>\n",
       "      <td>0.152</td>\n",
       "      <td>4</td>\n",
       "      <td>...</td>\n",
       "      <td>9</td>\n",
       "      <td>17</td>\n",
       "      <td>4</td>\n",
       "      <td>Friday</td>\n",
       "      <td>09:34:00</td>\n",
       "      <td>9</td>\n",
       "      <td>1</td>\n",
       "      <td>0 days 00:05:59.413000</td>\n",
       "      <td>0.100</td>\n",
       "      <td>5.983</td>\n",
       "    </tr>\n",
       "  </tbody>\n",
       "</table>\n",
       "<p>5 rows × 30 columns</p>\n",
       "</div>"
      ],
      "text/plain": [
       "      Index             EndTime                      SongName  \\\n",
       "3726   3726 2021-09-17 09:17:00                 Back To Black   \n",
       "3727   3727 2021-09-17 09:20:00      Where Do We Go From Here   \n",
       "3728   3728 2021-09-17 09:25:00     Way down We Go - Stripped   \n",
       "3729   3729 2021-09-17 09:28:00            Let's Talk It Over   \n",
       "3730   3730 2021-09-17 09:34:00  The Gentle Rain - RJD2 Remix   \n",
       "\n",
       "           ArtistName  msPlayed  Popularity                  SongID  \\\n",
       "3726    Amy Winehouse    241293          79  18XlJEroUwFo0tLZxscgXE   \n",
       "3727  Charles Bradley    191337          69  0fsEFwLSJTSHSawhe864Cp   \n",
       "3728            KALEO    208213          60  5I2UElY0XPnPhQhBTxBcq3   \n",
       "3729       Lee Fields    180200          54  0o2lMW2T77pq8utWLQ4b2U   \n",
       "3730  Astrud Gilberto    359413          56  5TuICc3rZeDaNP7mpRqlFj   \n",
       "\n",
       "      Danceability  Energy  Key  ...  Month  Day  Weekday  Day name      Time  \\\n",
       "3726         0.766   0.706    7  ...      9   17        4    Friday  09:17:00   \n",
       "3727         0.735   0.784   11  ...      9   17        4    Friday  09:20:00   \n",
       "3728         0.701   0.463    6  ...      9   17        4    Friday  09:25:00   \n",
       "3729         0.595   0.628    1  ...      9   17        4    Friday  09:28:00   \n",
       "3730         0.544   0.152    4  ...      9   17        4    Friday  09:34:00   \n",
       "\n",
       "      Hours  Count  Time Played (HH-MM-SS)  Listening Time (Hours)  \\\n",
       "3726      9      1  0 days 00:04:01.293000                   0.067   \n",
       "3727      9      1  0 days 00:03:11.337000                   0.053   \n",
       "3728      9      1  0 days 00:03:28.213000                   0.058   \n",
       "3729      9      1  0 days 00:03:00.200000                   0.050   \n",
       "3730      9      1  0 days 00:05:59.413000                   0.100   \n",
       "\n",
       "      Listening Time (Minutes)  \n",
       "3726                     4.017  \n",
       "3727                     3.183  \n",
       "3728                     3.467  \n",
       "3729                     3.000  \n",
       "3730                     5.983  \n",
       "\n",
       "[5 rows x 30 columns]"
      ]
     },
     "execution_count": 16,
     "metadata": {},
     "output_type": "execute_result"
    }
   ],
   "source": [
    "df.tail()"
   ]
  },
  {
   "cell_type": "code",
   "execution_count": 17,
   "id": "9500e105",
   "metadata": {
    "ExecuteTime": {
     "end_time": "2022-01-22T16:35:48.695962Z",
     "start_time": "2022-01-22T16:35:48.683978Z"
    }
   },
   "outputs": [
    {
     "data": {
      "text/plain": [
       "Index(['Index', 'EndTime', 'SongName', 'ArtistName', 'msPlayed', 'Popularity',\n",
       "       'SongID', 'Danceability', 'Energy', 'Key', 'Loudness', 'Mode',\n",
       "       'Speechiness', 'Acousticness', 'Instrumentalness', 'Liveness',\n",
       "       'Valence', 'Tempo', 'Duration_ms', 'Year', 'Month', 'Day', 'Weekday',\n",
       "       'Day name', 'Time', 'Hours', 'Count', 'Time Played (HH-MM-SS)',\n",
       "       'Listening Time (Hours)', 'Listening Time (Minutes)'],\n",
       "      dtype='object')"
      ]
     },
     "execution_count": 17,
     "metadata": {},
     "output_type": "execute_result"
    }
   ],
   "source": [
    "df.columns"
   ]
  },
  {
   "cell_type": "code",
   "execution_count": 18,
   "id": "776445a4",
   "metadata": {
    "ExecuteTime": {
     "end_time": "2022-01-22T16:35:48.711923Z",
     "start_time": "2022-01-22T16:35:48.695962Z"
    }
   },
   "outputs": [],
   "source": [
    "df.drop([\"EndTime\", \"msPlayed\", \"Time Played (HH-MM-SS)\"],\n",
    "        axis=1,\n",
    "        inplace=True)"
   ]
  },
  {
   "cell_type": "code",
   "execution_count": 19,
   "id": "db479656",
   "metadata": {
    "ExecuteTime": {
     "end_time": "2022-01-22T16:35:48.742843Z",
     "start_time": "2022-01-22T16:35:48.711923Z"
    }
   },
   "outputs": [
    {
     "data": {
      "text/html": [
       "<div>\n",
       "<style scoped>\n",
       "    .dataframe tbody tr th:only-of-type {\n",
       "        vertical-align: middle;\n",
       "    }\n",
       "\n",
       "    .dataframe tbody tr th {\n",
       "        vertical-align: top;\n",
       "    }\n",
       "\n",
       "    .dataframe thead th {\n",
       "        text-align: right;\n",
       "    }\n",
       "</style>\n",
       "<table border=\"1\" class=\"dataframe\">\n",
       "  <thead>\n",
       "    <tr style=\"text-align: right;\">\n",
       "      <th></th>\n",
       "      <th>Index</th>\n",
       "      <th>SongName</th>\n",
       "      <th>ArtistName</th>\n",
       "      <th>Popularity</th>\n",
       "      <th>SongID</th>\n",
       "      <th>Danceability</th>\n",
       "      <th>Energy</th>\n",
       "      <th>Key</th>\n",
       "      <th>Loudness</th>\n",
       "      <th>Mode</th>\n",
       "      <th>...</th>\n",
       "      <th>Year</th>\n",
       "      <th>Month</th>\n",
       "      <th>Day</th>\n",
       "      <th>Weekday</th>\n",
       "      <th>Day name</th>\n",
       "      <th>Time</th>\n",
       "      <th>Hours</th>\n",
       "      <th>Count</th>\n",
       "      <th>Listening Time (Hours)</th>\n",
       "      <th>Listening Time (Minutes)</th>\n",
       "    </tr>\n",
       "  </thead>\n",
       "  <tbody>\n",
       "    <tr>\n",
       "      <th>0</th>\n",
       "      <td>0</td>\n",
       "      <td>Saiyaan Ji</td>\n",
       "      <td>Yo Yo Honey Singh</td>\n",
       "      <td>62</td>\n",
       "      <td>39QJ7KkN3L8LLqQqsO85W1</td>\n",
       "      <td>0.896</td>\n",
       "      <td>0.678</td>\n",
       "      <td>0</td>\n",
       "      <td>-2.546</td>\n",
       "      <td>0</td>\n",
       "      <td>...</td>\n",
       "      <td>2021</td>\n",
       "      <td>2</td>\n",
       "      <td>2</td>\n",
       "      <td>1</td>\n",
       "      <td>Tuesday</td>\n",
       "      <td>02:08:00</td>\n",
       "      <td>2</td>\n",
       "      <td>1</td>\n",
       "      <td>0.018</td>\n",
       "      <td>1.067</td>\n",
       "    </tr>\n",
       "    <tr>\n",
       "      <th>1</th>\n",
       "      <td>1</td>\n",
       "      <td>Falling</td>\n",
       "      <td>Trevor Daniel</td>\n",
       "      <td>84</td>\n",
       "      <td>0Aqi7ArnBrGblW5T6p2jmD</td>\n",
       "      <td>0.785</td>\n",
       "      <td>0.431</td>\n",
       "      <td>10</td>\n",
       "      <td>-8.756</td>\n",
       "      <td>0</td>\n",
       "      <td>...</td>\n",
       "      <td>2021</td>\n",
       "      <td>2</td>\n",
       "      <td>2</td>\n",
       "      <td>1</td>\n",
       "      <td>Tuesday</td>\n",
       "      <td>02:09:00</td>\n",
       "      <td>2</td>\n",
       "      <td>1</td>\n",
       "      <td>0.006</td>\n",
       "      <td>0.383</td>\n",
       "    </tr>\n",
       "    <tr>\n",
       "      <th>2</th>\n",
       "      <td>2</td>\n",
       "      <td>Shayad</td>\n",
       "      <td>Pritam</td>\n",
       "      <td>72</td>\n",
       "      <td>1smFN2CLqGROu0J0UyvDfL</td>\n",
       "      <td>0.483</td>\n",
       "      <td>0.468</td>\n",
       "      <td>8</td>\n",
       "      <td>-7.642</td>\n",
       "      <td>1</td>\n",
       "      <td>...</td>\n",
       "      <td>2021</td>\n",
       "      <td>2</td>\n",
       "      <td>2</td>\n",
       "      <td>1</td>\n",
       "      <td>Tuesday</td>\n",
       "      <td>02:09:00</td>\n",
       "      <td>2</td>\n",
       "      <td>1</td>\n",
       "      <td>0.002</td>\n",
       "      <td>0.100</td>\n",
       "    </tr>\n",
       "    <tr>\n",
       "      <th>3</th>\n",
       "      <td>3</td>\n",
       "      <td>Malang (Title Track) [From \"Malang - Unleash T...</td>\n",
       "      <td>Ved Sharma</td>\n",
       "      <td>68</td>\n",
       "      <td>25MPTnqXQB1H6OkwSYUXWx</td>\n",
       "      <td>0.384</td>\n",
       "      <td>0.728</td>\n",
       "      <td>7</td>\n",
       "      <td>-6.503</td>\n",
       "      <td>0</td>\n",
       "      <td>...</td>\n",
       "      <td>2021</td>\n",
       "      <td>2</td>\n",
       "      <td>2</td>\n",
       "      <td>1</td>\n",
       "      <td>Tuesday</td>\n",
       "      <td>02:14:00</td>\n",
       "      <td>2</td>\n",
       "      <td>1</td>\n",
       "      <td>0.080</td>\n",
       "      <td>4.783</td>\n",
       "    </tr>\n",
       "    <tr>\n",
       "      <th>4</th>\n",
       "      <td>4</td>\n",
       "      <td>Genda Phool (feat. Payal Dev)</td>\n",
       "      <td>Badshah</td>\n",
       "      <td>67</td>\n",
       "      <td>0gzu5mm36VJH2Zqu8sQPTf</td>\n",
       "      <td>0.955</td>\n",
       "      <td>0.538</td>\n",
       "      <td>1</td>\n",
       "      <td>-8.394</td>\n",
       "      <td>1</td>\n",
       "      <td>...</td>\n",
       "      <td>2021</td>\n",
       "      <td>2</td>\n",
       "      <td>2</td>\n",
       "      <td>1</td>\n",
       "      <td>Tuesday</td>\n",
       "      <td>02:14:00</td>\n",
       "      <td>2</td>\n",
       "      <td>1</td>\n",
       "      <td>0.008</td>\n",
       "      <td>0.450</td>\n",
       "    </tr>\n",
       "  </tbody>\n",
       "</table>\n",
       "<p>5 rows × 27 columns</p>\n",
       "</div>"
      ],
      "text/plain": [
       "   Index                                           SongName  \\\n",
       "0      0                                         Saiyaan Ji   \n",
       "1      1                                            Falling   \n",
       "2      2                                             Shayad   \n",
       "3      3  Malang (Title Track) [From \"Malang - Unleash T...   \n",
       "4      4                      Genda Phool (feat. Payal Dev)   \n",
       "\n",
       "          ArtistName  Popularity                  SongID  Danceability  \\\n",
       "0  Yo Yo Honey Singh          62  39QJ7KkN3L8LLqQqsO85W1         0.896   \n",
       "1      Trevor Daniel          84  0Aqi7ArnBrGblW5T6p2jmD         0.785   \n",
       "2             Pritam          72  1smFN2CLqGROu0J0UyvDfL         0.483   \n",
       "3         Ved Sharma          68  25MPTnqXQB1H6OkwSYUXWx         0.384   \n",
       "4            Badshah          67  0gzu5mm36VJH2Zqu8sQPTf         0.955   \n",
       "\n",
       "   Energy  Key  Loudness  Mode  ...  Year  Month  Day  Weekday  Day name  \\\n",
       "0   0.678    0    -2.546     0  ...  2021      2    2        1   Tuesday   \n",
       "1   0.431   10    -8.756     0  ...  2021      2    2        1   Tuesday   \n",
       "2   0.468    8    -7.642     1  ...  2021      2    2        1   Tuesday   \n",
       "3   0.728    7    -6.503     0  ...  2021      2    2        1   Tuesday   \n",
       "4   0.538    1    -8.394     1  ...  2021      2    2        1   Tuesday   \n",
       "\n",
       "       Time  Hours  Count  Listening Time (Hours)  Listening Time (Minutes)  \n",
       "0  02:08:00      2      1                   0.018                     1.067  \n",
       "1  02:09:00      2      1                   0.006                     0.383  \n",
       "2  02:09:00      2      1                   0.002                     0.100  \n",
       "3  02:14:00      2      1                   0.080                     4.783  \n",
       "4  02:14:00      2      1                   0.008                     0.450  \n",
       "\n",
       "[5 rows x 27 columns]"
      ]
     },
     "execution_count": 19,
     "metadata": {},
     "output_type": "execute_result"
    }
   ],
   "source": [
    "df.head()"
   ]
  },
  {
   "cell_type": "markdown",
   "id": "8822f663",
   "metadata": {},
   "source": [
    "# Exploratory Data Analysis"
   ]
  },
  {
   "cell_type": "markdown",
   "id": "6034b771",
   "metadata": {},
   "source": [
    "## 1. Analysis of Artists"
   ]
  },
  {
   "cell_type": "markdown",
   "id": "71631797",
   "metadata": {},
   "source": [
    "### 1.1 My unique Artists"
   ]
  },
  {
   "cell_type": "code",
   "execution_count": 20,
   "id": "162ea5f1",
   "metadata": {
    "ExecuteTime": {
     "end_time": "2022-01-22T16:35:48.757824Z",
     "start_time": "2022-01-22T16:35:48.745832Z"
    }
   },
   "outputs": [
    {
     "name": "stdout",
     "output_type": "stream",
     "text": [
      "15.036183328866256\n"
     ]
    }
   ],
   "source": [
    "unique_artists = df[\"ArtistName\"].nunique()  # Number of unique artists' in the artist column\n",
    "total_artists = df[\"ArtistName\"].count()  # Number of total artists' in the artist column\n",
    "unique_artist_percentage = (unique_artists / total_artists) * 100\n",
    "print(unique_artist_percentage)"
   ]
  },
  {
   "cell_type": "code",
   "execution_count": 21,
   "id": "a2b6b318",
   "metadata": {
    "ExecuteTime": {
     "end_time": "2022-01-22T16:35:48.930657Z",
     "start_time": "2022-01-22T16:35:48.757824Z"
    }
   },
   "outputs": [
    {
     "data": {
      "image/png": "[encoded data removed]",
      "text/plain": [
       "<Figure size 864x432 with 1 Axes>"
      ]
     },
     "metadata": {},
     "output_type": "display_data"
    }
   ],
   "source": [
    "unique_artist_array = np.array([unique_artists, total_artists - unique_artists])\n",
    "unique_artist_labels = [\"Unique Artists\", \"Non Unique Artists\"]\n",
    "\n",
    "fig, ax = plt.subplots(figsize=(12, 6))\n",
    "ax.pie(unique_artist_array,\n",
    "       labels=unique_artist_labels,\n",
    "       autopct='%1.1f%%',\n",
    "       explode=[0.05, 0.05],\n",
    "       startangle=180,\n",
    "       shadow=True)\n",
    "plt.title(\"Unique Artist Percentage\")"
   ]
  },
  {
   "cell_type": "markdown",
   "id": "003f4cbf",
   "metadata": {},
   "source": [
    "### 1.2 My top 10 unique Artists'"
   ]
  },
  {
   "cell_type": "code",
   "execution_count": 22,
   "id": "15ac90a1",
   "metadata": {
    "ExecuteTime": {
     "end_time": "2022-01-22T16:35:48.962629Z",
     "start_time": "2022-01-22T16:35:48.930657Z"
    }
   },
   "outputs": [
    {
     "data": {
      "text/html": [
       "<div>\n",
       "<style scoped>\n",
       "    .dataframe tbody tr th:only-of-type {\n",
       "        vertical-align: middle;\n",
       "    }\n",
       "\n",
       "    .dataframe tbody tr th {\n",
       "        vertical-align: top;\n",
       "    }\n",
       "\n",
       "    .dataframe thead th {\n",
       "        text-align: right;\n",
       "    }\n",
       "</style>\n",
       "<table border=\"1\" class=\"dataframe\">\n",
       "  <thead>\n",
       "    <tr style=\"text-align: right;\">\n",
       "      <th></th>\n",
       "      <th>Listening Time (Hours)</th>\n",
       "      <th>Listening Time (Minutes)</th>\n",
       "      <th>Count</th>\n",
       "    </tr>\n",
       "    <tr>\n",
       "      <th>ArtistName</th>\n",
       "      <th></th>\n",
       "      <th></th>\n",
       "      <th></th>\n",
       "    </tr>\n",
       "  </thead>\n",
       "  <tbody>\n",
       "    <tr>\n",
       "      <th>Juice WRLD</th>\n",
       "      <td>6.349</td>\n",
       "      <td>381.933</td>\n",
       "      <td>154</td>\n",
       "    </tr>\n",
       "    <tr>\n",
       "      <th>Carlos Rafael Rivera</th>\n",
       "      <td>6.299</td>\n",
       "      <td>378.537</td>\n",
       "      <td>207</td>\n",
       "    </tr>\n",
       "    <tr>\n",
       "      <th>The Chainsmokers</th>\n",
       "      <td>3.981</td>\n",
       "      <td>238.708</td>\n",
       "      <td>104</td>\n",
       "    </tr>\n",
       "    <tr>\n",
       "      <th>Eminem</th>\n",
       "      <td>3.341</td>\n",
       "      <td>200.684</td>\n",
       "      <td>94</td>\n",
       "    </tr>\n",
       "    <tr>\n",
       "      <th>Taylor Swift</th>\n",
       "      <td>2.751</td>\n",
       "      <td>165.336</td>\n",
       "      <td>51</td>\n",
       "    </tr>\n",
       "    <tr>\n",
       "      <th>Bruno Mars</th>\n",
       "      <td>2.682</td>\n",
       "      <td>161.296</td>\n",
       "      <td>60</td>\n",
       "    </tr>\n",
       "    <tr>\n",
       "      <th>Conan Gray</th>\n",
       "      <td>2.155</td>\n",
       "      <td>128.925</td>\n",
       "      <td>53</td>\n",
       "    </tr>\n",
       "    <tr>\n",
       "      <th>Post Malone</th>\n",
       "      <td>2.036</td>\n",
       "      <td>122.151</td>\n",
       "      <td>56</td>\n",
       "    </tr>\n",
       "    <tr>\n",
       "      <th>Shawn Mendes</th>\n",
       "      <td>1.966</td>\n",
       "      <td>117.857</td>\n",
       "      <td>53</td>\n",
       "    </tr>\n",
       "    <tr>\n",
       "      <th>Anuv Jain</th>\n",
       "      <td>1.891</td>\n",
       "      <td>112.431</td>\n",
       "      <td>57</td>\n",
       "    </tr>\n",
       "  </tbody>\n",
       "</table>\n",
       "</div>"
      ],
      "text/plain": [
       "                      Listening Time (Hours)  Listening Time (Minutes)  Count\n",
       "ArtistName                                                                   \n",
       "Juice WRLD                             6.349                   381.933    154\n",
       "Carlos Rafael Rivera                   6.299                   378.537    207\n",
       "The Chainsmokers                       3.981                   238.708    104\n",
       "Eminem                                 3.341                   200.684     94\n",
       "Taylor Swift                           2.751                   165.336     51\n",
       "Bruno Mars                             2.682                   161.296     60\n",
       "Conan Gray                             2.155                   128.925     53\n",
       "Post Malone                            2.036                   122.151     56\n",
       "Shawn Mendes                           1.966                   117.857     53\n",
       "Anuv Jain                              1.891                   112.431     57"
      ]
     },
     "execution_count": 22,
     "metadata": {},
     "output_type": "execute_result"
    }
   ],
   "source": [
    "# Top 10 unique artist by time count\n",
    "top_artist = df.groupby([\"ArtistName\"])  # Groups the dataframe by the artist's name\n",
    "# Choosing to display only 3 columns, finding their sum and sorting their values by Listening Time (Minutes)\n",
    "top_artist[[\"Listening Time (Hours)\", \"Listening Time (Minutes)\",\n",
    "            \"Count\"]].sum().sort_values(by=\"Listening Time (Minutes)\",\n",
    "                                        ascending=False).head(10)"
   ]
  },
  {
   "cell_type": "code",
   "execution_count": 23,
   "id": "f560829d",
   "metadata": {
    "ExecuteTime": {
     "end_time": "2022-01-22T16:35:49.136201Z",
     "start_time": "2022-01-22T16:35:48.962629Z"
    }
   },
   "outputs": [
    {
     "data": {
      "image/png": "[encoded data removed]",
      "text/plain": [
       "<Figure size 864x576 with 1 Axes>"
      ]
     },
     "metadata": {
      "needs_background": "light"
     },
     "output_type": "display_data"
    }
   ],
   "source": [
    "# Visualizing\n",
    "# Top 10 unique artist by the minutes listened to\n",
    "top_artist = df.groupby([\"ArtistName\"])\n",
    "top_artist = top_artist[[\"Listening Time (Hours)\", \"Listening Time (Minutes)\", \"Count\"]].sum()\n",
    "top_artist = top_artist.sort_values(by=\"Listening Time (Hours)\",\n",
    "                                    ascending=False)\n",
    "\n",
    "# The \"Artist Name\" is the index of the top_artist\n",
    "plt.figure(figsize=(12, 8))\n",
    "x_data = top_artist.head(10).index\n",
    "y_data = top_artist[\"Listening Time (Hours)\"].head(10)\n",
    "sns.barplot(x=x_data, y=y_data, palette=\"inferno\")\n",
    "plt.xticks(rotation=75)"
   ]
  },
  {
   "cell_type": "code",
   "execution_count": 24,
   "id": "fee05cdc",
   "metadata": {
    "ExecuteTime": {
     "end_time": "2022-01-22T16:35:49.152171Z",
     "start_time": "2022-01-22T16:35:49.137192Z"
    }
   },
   "outputs": [
    {
     "data": {
      "text/html": [
       "<div>\n",
       "<style scoped>\n",
       "    .dataframe tbody tr th:only-of-type {\n",
       "        vertical-align: middle;\n",
       "    }\n",
       "\n",
       "    .dataframe tbody tr th {\n",
       "        vertical-align: top;\n",
       "    }\n",
       "\n",
       "    .dataframe thead th {\n",
       "        text-align: right;\n",
       "    }\n",
       "</style>\n",
       "<table border=\"1\" class=\"dataframe\">\n",
       "  <thead>\n",
       "    <tr style=\"text-align: right;\">\n",
       "      <th></th>\n",
       "      <th>Listening Time (Hours)</th>\n",
       "      <th>Listening Time (Minutes)</th>\n",
       "      <th>Count</th>\n",
       "    </tr>\n",
       "    <tr>\n",
       "      <th>ArtistName</th>\n",
       "      <th></th>\n",
       "      <th></th>\n",
       "      <th></th>\n",
       "    </tr>\n",
       "  </thead>\n",
       "  <tbody>\n",
       "    <tr>\n",
       "      <th>Carlos Rafael Rivera</th>\n",
       "      <td>6.299</td>\n",
       "      <td>378.537</td>\n",
       "      <td>207</td>\n",
       "    </tr>\n",
       "    <tr>\n",
       "      <th>Juice WRLD</th>\n",
       "      <td>6.349</td>\n",
       "      <td>381.933</td>\n",
       "      <td>154</td>\n",
       "    </tr>\n",
       "    <tr>\n",
       "      <th>The Chainsmokers</th>\n",
       "      <td>3.981</td>\n",
       "      <td>238.708</td>\n",
       "      <td>104</td>\n",
       "    </tr>\n",
       "    <tr>\n",
       "      <th>Eminem</th>\n",
       "      <td>3.341</td>\n",
       "      <td>200.684</td>\n",
       "      <td>94</td>\n",
       "    </tr>\n",
       "    <tr>\n",
       "      <th>Bruno Mars</th>\n",
       "      <td>2.682</td>\n",
       "      <td>161.296</td>\n",
       "      <td>60</td>\n",
       "    </tr>\n",
       "    <tr>\n",
       "      <th>Anuv Jain</th>\n",
       "      <td>1.891</td>\n",
       "      <td>112.431</td>\n",
       "      <td>57</td>\n",
       "    </tr>\n",
       "    <tr>\n",
       "      <th>Post Malone</th>\n",
       "      <td>2.036</td>\n",
       "      <td>122.151</td>\n",
       "      <td>56</td>\n",
       "    </tr>\n",
       "    <tr>\n",
       "      <th>Justin Bieber</th>\n",
       "      <td>1.826</td>\n",
       "      <td>109.813</td>\n",
       "      <td>54</td>\n",
       "    </tr>\n",
       "    <tr>\n",
       "      <th>Conan Gray</th>\n",
       "      <td>2.155</td>\n",
       "      <td>128.925</td>\n",
       "      <td>53</td>\n",
       "    </tr>\n",
       "    <tr>\n",
       "      <th>Olivia Rodrigo</th>\n",
       "      <td>1.691</td>\n",
       "      <td>101.786</td>\n",
       "      <td>53</td>\n",
       "    </tr>\n",
       "  </tbody>\n",
       "</table>\n",
       "</div>"
      ],
      "text/plain": [
       "                      Listening Time (Hours)  Listening Time (Minutes)  Count\n",
       "ArtistName                                                                   \n",
       "Carlos Rafael Rivera                   6.299                   378.537    207\n",
       "Juice WRLD                             6.349                   381.933    154\n",
       "The Chainsmokers                       3.981                   238.708    104\n",
       "Eminem                                 3.341                   200.684     94\n",
       "Bruno Mars                             2.682                   161.296     60\n",
       "Anuv Jain                              1.891                   112.431     57\n",
       "Post Malone                            2.036                   122.151     56\n",
       "Justin Bieber                          1.826                   109.813     54\n",
       "Conan Gray                             2.155                   128.925     53\n",
       "Olivia Rodrigo                         1.691                   101.786     53"
      ]
     },
     "execution_count": 24,
     "metadata": {},
     "output_type": "execute_result"
    }
   ],
   "source": [
    "# Top 10 unique artist by the number of times played\n",
    "top_artist = df.groupby([\"ArtistName\"])\n",
    "top_artist = top_artist[[\"Listening Time (Hours)\", \"Listening Time (Minutes)\", \"Count\"]].sum()\n",
    "top_artist = top_artist.sort_values(by=\"Count\", ascending=False)\n",
    "top_artist.head(10)"
   ]
  },
  {
   "cell_type": "code",
   "execution_count": 25,
   "id": "3e94ccd7",
   "metadata": {
    "ExecuteTime": {
     "end_time": "2022-01-22T16:35:49.334287Z",
     "start_time": "2022-01-22T16:35:49.152171Z"
    }
   },
   "outputs": [
    {
     "data": {
      "image/png": "[encoded data removed]",
      "text/plain": [
       "<Figure size 864x576 with 1 Axes>"
      ]
     },
     "metadata": {
      "needs_background": "light"
     },
     "output_type": "display_data"
    }
   ],
   "source": [
    "# Visualizing\n",
    "# Top 10 unique artist by number of times played\n",
    "top_artist = df.groupby([\"ArtistName\"])\n",
    "top_artist = top_artist[[\"Listening Time (Hours)\", \"Listening Time (Minutes)\", \"Count\"]].sum()\n",
    "top_artist = top_artist.sort_values(by=\"Count\", ascending=False)\n",
    "\n",
    "# The \"Artist Name\" is the index of the top_artist\n",
    "plt.figure(figsize=(12, 8))\n",
    "x_data = top_artist.head(10).index\n",
    "y_data = top_artist[\"Count\"].head(10)\n",
    "sns.barplot(x=x_data, y=y_data, palette=\"YlGn\")\n",
    "plt.xticks(rotation=75)"
   ]
  },
  {
   "cell_type": "markdown",
   "id": "ebe72518",
   "metadata": {},
   "source": [
    "## 2 Analysis of Songs"
   ]
  },
  {
   "cell_type": "markdown",
   "id": "9b78a990",
   "metadata": {},
   "source": [
    "## 2.1 My unique songs"
   ]
  },
  {
   "cell_type": "code",
   "execution_count": 26,
   "id": "a3a1be92",
   "metadata": {
    "ExecuteTime": {
     "end_time": "2022-01-22T16:35:49.350243Z",
     "start_time": "2022-01-22T16:35:49.334287Z"
    }
   },
   "outputs": [
    {
     "name": "stdout",
     "output_type": "stream",
     "text": [
      "The percentage of unique songs is: 28.491021173948006\n"
     ]
    }
   ],
   "source": [
    "unique_songs = df[\"SongName\"].nunique()  # Number of unique songs\n",
    "total_songs = df[\"SongName\"].count()  # Total number of songs\n",
    "unique_song_percentage = (unique_songs / total_songs) * 100\n",
    "print(\"The percentage of unique songs is:\", unique_song_percentage)"
   ]
  },
  {
   "cell_type": "code",
   "execution_count": 27,
   "id": "f376cff9",
   "metadata": {
    "ExecuteTime": {
     "end_time": "2022-01-22T16:35:49.460046Z",
     "start_time": "2022-01-22T16:35:49.356168Z"
    }
   },
   "outputs": [
    {
     "data": {
      "image/png": "[encoded data removed]",
      "text/plain": [
       "<Figure size 864x432 with 1 Axes>"
      ]
     },
     "metadata": {},
     "output_type": "display_data"
    }
   ],
   "source": [
    "# Well from the looks of it, I don't like new songs I guess\n",
    "unique_song_array = np.array([unique_songs, total_songs - unique_songs])\n",
    "unique_song_labels = [\"Unique Songs\", \"Non Unique Songs\"]\n",
    "\n",
    "fig, ax = plt.subplots(figsize=(12, 6))\n",
    "ax.pie(unique_song_array,\n",
    "       labels=unique_song_labels,\n",
    "       autopct='%1.1f%%',\n",
    "       explode=[0.05, 0.05],\n",
    "       startangle=180,\n",
    "       shadow=True)\n",
    "plt.title(\"Unique Songs Percentage\")"
   ]
  },
  {
   "cell_type": "markdown",
   "id": "9ed5519f",
   "metadata": {},
   "source": [
    "## 2.2 Top 10 listened to Songs"
   ]
  },
  {
   "cell_type": "code",
   "execution_count": 28,
   "id": "afe88fa5",
   "metadata": {
    "ExecuteTime": {
     "end_time": "2022-01-22T16:35:49.491887Z",
     "start_time": "2022-01-22T16:35:49.460046Z"
    }
   },
   "outputs": [
    {
     "data": {
      "text/html": [
       "<div>\n",
       "<style scoped>\n",
       "    .dataframe tbody tr th:only-of-type {\n",
       "        vertical-align: middle;\n",
       "    }\n",
       "\n",
       "    .dataframe tbody tr th {\n",
       "        vertical-align: top;\n",
       "    }\n",
       "\n",
       "    .dataframe thead th {\n",
       "        text-align: right;\n",
       "    }\n",
       "</style>\n",
       "<table border=\"1\" class=\"dataframe\">\n",
       "  <thead>\n",
       "    <tr style=\"text-align: right;\">\n",
       "      <th></th>\n",
       "      <th>Listening Time (Hours)</th>\n",
       "      <th>Listening Time (Minutes)</th>\n",
       "      <th>Count</th>\n",
       "    </tr>\n",
       "    <tr>\n",
       "      <th>SongName</th>\n",
       "      <th></th>\n",
       "      <th></th>\n",
       "      <th></th>\n",
       "    </tr>\n",
       "  </thead>\n",
       "  <tbody>\n",
       "    <tr>\n",
       "      <th>Baarishein</th>\n",
       "      <td>1.818</td>\n",
       "      <td>108.031</td>\n",
       "      <td>54</td>\n",
       "    </tr>\n",
       "    <tr>\n",
       "      <th>Bloodstream</th>\n",
       "      <td>1.791</td>\n",
       "      <td>107.439</td>\n",
       "      <td>24</td>\n",
       "    </tr>\n",
       "    <tr>\n",
       "      <th>exile (feat. Bon Iver)</th>\n",
       "      <td>1.507</td>\n",
       "      <td>90.616</td>\n",
       "      <td>23</td>\n",
       "    </tr>\n",
       "    <tr>\n",
       "      <th>Life's A Mess II (with Clever &amp; Post Malone)</th>\n",
       "      <td>1.255</td>\n",
       "      <td>75.594</td>\n",
       "      <td>26</td>\n",
       "    </tr>\n",
       "    <tr>\n",
       "      <th>Talking to the Moon</th>\n",
       "      <td>1.169</td>\n",
       "      <td>70.406</td>\n",
       "      <td>21</td>\n",
       "    </tr>\n",
       "    <tr>\n",
       "      <th>734</th>\n",
       "      <td>1.096</td>\n",
       "      <td>66.272</td>\n",
       "      <td>26</td>\n",
       "    </tr>\n",
       "    <tr>\n",
       "      <th>Hollywood's Bleeding</th>\n",
       "      <td>1.082</td>\n",
       "      <td>65.149</td>\n",
       "      <td>26</td>\n",
       "    </tr>\n",
       "    <tr>\n",
       "      <th>Grenade</th>\n",
       "      <td>1.081</td>\n",
       "      <td>64.839</td>\n",
       "      <td>22</td>\n",
       "    </tr>\n",
       "    <tr>\n",
       "      <th>good 4 u</th>\n",
       "      <td>1.021</td>\n",
       "      <td>61.756</td>\n",
       "      <td>27</td>\n",
       "    </tr>\n",
       "    <tr>\n",
       "      <th>Stereo Hearts (feat. Adam Levine)</th>\n",
       "      <td>1.001</td>\n",
       "      <td>60.333</td>\n",
       "      <td>23</td>\n",
       "    </tr>\n",
       "  </tbody>\n",
       "</table>\n",
       "</div>"
      ],
      "text/plain": [
       "                                              Listening Time (Hours)  \\\n",
       "SongName                                                               \n",
       "Baarishein                                                     1.818   \n",
       "Bloodstream                                                    1.791   \n",
       "exile (feat. Bon Iver)                                         1.507   \n",
       "Life's A Mess II (with Clever & Post Malone)                   1.255   \n",
       "Talking to the Moon                                            1.169   \n",
       "734                                                            1.096   \n",
       "Hollywood's Bleeding                                           1.082   \n",
       "Grenade                                                        1.081   \n",
       "good 4 u                                                       1.021   \n",
       "Stereo Hearts (feat. Adam Levine)                              1.001   \n",
       "\n",
       "                                              Listening Time (Minutes)  Count  \n",
       "SongName                                                                       \n",
       "Baarishein                                                     108.031     54  \n",
       "Bloodstream                                                    107.439     24  \n",
       "exile (feat. Bon Iver)                                          90.616     23  \n",
       "Life's A Mess II (with Clever & Post Malone)                    75.594     26  \n",
       "Talking to the Moon                                             70.406     21  \n",
       "734                                                             66.272     26  \n",
       "Hollywood's Bleeding                                            65.149     26  \n",
       "Grenade                                                         64.839     22  \n",
       "good 4 u                                                        61.756     27  \n",
       "Stereo Hearts (feat. Adam Levine)                               60.333     23  "
      ]
     },
     "execution_count": 28,
     "metadata": {},
     "output_type": "execute_result"
    }
   ],
   "source": [
    "# By minutes\n",
    "top_songs = df.groupby([\"SongName\"])\n",
    "top_songs = top_songs[[\"Listening Time (Hours)\", \"Listening Time (Minutes)\", \"Count\"]].sum()\n",
    "top_songs = top_songs.sort_values(by=\"Listening Time (Minutes)\",\n",
    "                                  ascending=False)\n",
    "top_songs.head(10)"
   ]
  },
  {
   "cell_type": "code",
   "execution_count": 29,
   "id": "91643e42",
   "metadata": {
    "ExecuteTime": {
     "end_time": "2022-01-22T16:35:49.704524Z",
     "start_time": "2022-01-22T16:35:49.491887Z"
    }
   },
   "outputs": [
    {
     "data": {
      "image/png": "[encoded data removed]",
      "text/plain": [
       "<Figure size 864x576 with 1 Axes>"
      ]
     },
     "metadata": {
      "needs_background": "light"
     },
     "output_type": "display_data"
    }
   ],
   "source": [
    "# Visualizing\n",
    "plt.figure(figsize=(12, 8))\n",
    "x_data = top_songs.head(10).index\n",
    "y_data = top_songs[\"Listening Time (Hours)\"].head(10)\n",
    "sns.barplot(x=x_data, y=y_data, palette=\"inferno\")\n",
    "plt.xticks(rotation=75)"
   ]
  },
  {
   "cell_type": "code",
   "execution_count": 30,
   "id": "6aee9525",
   "metadata": {
    "ExecuteTime": {
     "end_time": "2022-01-22T16:35:49.737497Z",
     "start_time": "2022-01-22T16:35:49.704524Z"
    }
   },
   "outputs": [
    {
     "data": {
      "text/html": [
       "<div>\n",
       "<style scoped>\n",
       "    .dataframe tbody tr th:only-of-type {\n",
       "        vertical-align: middle;\n",
       "    }\n",
       "\n",
       "    .dataframe tbody tr th {\n",
       "        vertical-align: top;\n",
       "    }\n",
       "\n",
       "    .dataframe thead th {\n",
       "        text-align: right;\n",
       "    }\n",
       "</style>\n",
       "<table border=\"1\" class=\"dataframe\">\n",
       "  <thead>\n",
       "    <tr style=\"text-align: right;\">\n",
       "      <th></th>\n",
       "      <th>Listening Time (Hours)</th>\n",
       "      <th>Listening Time (Minutes)</th>\n",
       "      <th>Count</th>\n",
       "    </tr>\n",
       "    <tr>\n",
       "      <th>SongName</th>\n",
       "      <th></th>\n",
       "      <th></th>\n",
       "      <th></th>\n",
       "    </tr>\n",
       "  </thead>\n",
       "  <tbody>\n",
       "    <tr>\n",
       "      <th>Baarishein</th>\n",
       "      <td>1.818</td>\n",
       "      <td>108.031</td>\n",
       "      <td>54</td>\n",
       "    </tr>\n",
       "    <tr>\n",
       "      <th>Sygrayem (Let's Play)</th>\n",
       "      <td>0.732</td>\n",
       "      <td>44.344</td>\n",
       "      <td>43</td>\n",
       "    </tr>\n",
       "    <tr>\n",
       "      <th>good 4 u</th>\n",
       "      <td>1.021</td>\n",
       "      <td>61.756</td>\n",
       "      <td>27</td>\n",
       "    </tr>\n",
       "    <tr>\n",
       "      <th>Hollywood's Bleeding</th>\n",
       "      <td>1.082</td>\n",
       "      <td>65.149</td>\n",
       "      <td>26</td>\n",
       "    </tr>\n",
       "    <tr>\n",
       "      <th>734</th>\n",
       "      <td>1.096</td>\n",
       "      <td>66.272</td>\n",
       "      <td>26</td>\n",
       "    </tr>\n",
       "    <tr>\n",
       "      <th>Life's A Mess II (with Clever &amp; Post Malone)</th>\n",
       "      <td>1.255</td>\n",
       "      <td>75.594</td>\n",
       "      <td>26</td>\n",
       "    </tr>\n",
       "    <tr>\n",
       "      <th>Element</th>\n",
       "      <td>0.577</td>\n",
       "      <td>34.218</td>\n",
       "      <td>25</td>\n",
       "    </tr>\n",
       "    <tr>\n",
       "      <th>Hope</th>\n",
       "      <td>0.779</td>\n",
       "      <td>46.244</td>\n",
       "      <td>25</td>\n",
       "    </tr>\n",
       "    <tr>\n",
       "      <th>Into Your Arms (feat. Ava Max)</th>\n",
       "      <td>0.806</td>\n",
       "      <td>48.050</td>\n",
       "      <td>25</td>\n",
       "    </tr>\n",
       "    <tr>\n",
       "      <th>STAY (with Justin Bieber)</th>\n",
       "      <td>0.760</td>\n",
       "      <td>45.816</td>\n",
       "      <td>24</td>\n",
       "    </tr>\n",
       "  </tbody>\n",
       "</table>\n",
       "</div>"
      ],
      "text/plain": [
       "                                              Listening Time (Hours)  \\\n",
       "SongName                                                               \n",
       "Baarishein                                                     1.818   \n",
       "Sygrayem (Let's Play)                                          0.732   \n",
       "good 4 u                                                       1.021   \n",
       "Hollywood's Bleeding                                           1.082   \n",
       "734                                                            1.096   \n",
       "Life's A Mess II (with Clever & Post Malone)                   1.255   \n",
       "Element                                                        0.577   \n",
       "Hope                                                           0.779   \n",
       "Into Your Arms (feat. Ava Max)                                 0.806   \n",
       "STAY (with Justin Bieber)                                      0.760   \n",
       "\n",
       "                                              Listening Time (Minutes)  Count  \n",
       "SongName                                                                       \n",
       "Baarishein                                                     108.031     54  \n",
       "Sygrayem (Let's Play)                                           44.344     43  \n",
       "good 4 u                                                        61.756     27  \n",
       "Hollywood's Bleeding                                            65.149     26  \n",
       "734                                                             66.272     26  \n",
       "Life's A Mess II (with Clever & Post Malone)                    75.594     26  \n",
       "Element                                                         34.218     25  \n",
       "Hope                                                            46.244     25  \n",
       "Into Your Arms (feat. Ava Max)                                  48.050     25  \n",
       "STAY (with Justin Bieber)                                       45.816     24  "
      ]
     },
     "execution_count": 30,
     "metadata": {},
     "output_type": "execute_result"
    }
   ],
   "source": [
    "# By count\n",
    "top_songs = df.groupby([\"SongName\"])\n",
    "top_songs = top_songs[[\"Listening Time (Hours)\", \"Listening Time (Minutes)\", \"Count\"]].sum()\n",
    "top_songs = top_songs.sort_values(by=\"Count\", ascending=False)\n",
    "top_songs.head(10)"
   ]
  },
  {
   "cell_type": "code",
   "execution_count": 31,
   "id": "cb254773",
   "metadata": {
    "ExecuteTime": {
     "end_time": "2022-01-22T16:35:49.972202Z",
     "start_time": "2022-01-22T16:35:49.740494Z"
    }
   },
   "outputs": [
    {
     "data": {
      "image/png": "[encoded data removed]",
      "text/plain": [
       "<Figure size 864x576 with 1 Axes>"
      ]
     },
     "metadata": {
      "needs_background": "light"
     },
     "output_type": "display_data"
    }
   ],
   "source": [
    "# Visualizing\n",
    "plt.figure(figsize=(12, 8))\n",
    "x_data = top_songs.head(10).index\n",
    "y_data = top_songs[\"Listening Time (Hours)\"].head(10)\n",
    "sns.barplot(x=x_data, y=y_data, palette=\"inferno\")\n",
    "plt.xticks(rotation=75)"
   ]
  },
  {
   "cell_type": "markdown",
   "id": "961bd357",
   "metadata": {},
   "source": [
    "## 3. Day-wise usage"
   ]
  },
  {
   "cell_type": "code",
   "execution_count": 32,
   "id": "9972db3d",
   "metadata": {
    "ExecuteTime": {
     "end_time": "2022-01-22T16:35:49.987229Z",
     "start_time": "2022-01-22T16:35:49.972202Z"
    }
   },
   "outputs": [
    {
     "data": {
      "text/plain": [
       "Friday       612\n",
       "Tuesday      602\n",
       "Thursday     575\n",
       "Saturday     530\n",
       "Monday       495\n",
       "Wednesday    460\n",
       "Sunday       457\n",
       "Name: Day name, dtype: int64"
      ]
     },
     "execution_count": 32,
     "metadata": {},
     "output_type": "execute_result"
    }
   ],
   "source": [
    "df[\"Day name\"].value_counts()"
   ]
  },
  {
   "cell_type": "code",
   "execution_count": 33,
   "id": "86a22c06",
   "metadata": {
    "ExecuteTime": {
     "end_time": "2022-01-22T16:35:50.175904Z",
     "start_time": "2022-01-22T16:35:49.990186Z"
    }
   },
   "outputs": [
    {
     "data": {
      "text/plain": [
       "<AxesSubplot:>"
      ]
     },
     "execution_count": 33,
     "metadata": {},
     "output_type": "execute_result"
    },
    {
     "data": {
      "image/png": "[encoded data removed]",
      "text/plain": [
       "<Figure size 720x576 with 1 Axes>"
      ]
     },
     "metadata": {
      "needs_background": "light"
     },
     "output_type": "display_data"
    }
   ],
   "source": [
    "x_data = df[\"Day name\"].value_counts().index\n",
    "y_data = df[\"Day name\"].value_counts().values\n",
    "plt.figure(figsize=(10, 8))\n",
    "sns.barplot(x=x_data, y=y_data, palette=\"inferno\")"
   ]
  },
  {
   "cell_type": "markdown",
   "id": "84023248",
   "metadata": {},
   "source": [
    "## 4. Time during which I mostly listen to songs"
   ]
  },
  {
   "cell_type": "code",
   "execution_count": 34,
   "id": "30f5882d",
   "metadata": {
    "ExecuteTime": {
     "end_time": "2022-01-22T16:35:50.452785Z",
     "start_time": "2022-01-22T16:35:50.175904Z"
    }
   },
   "outputs": [
    {
     "data": {
      "image/png": "[encoded data removed]",
      "text/plain": [
       "<Figure size 720x576 with 1 Axes>"
      ]
     },
     "metadata": {
      "needs_background": "light"
     },
     "output_type": "display_data"
    }
   ],
   "source": [
    "plt.figure(figsize=(10, 8))\n",
    "sns.histplot(x=df[\"Hours\"], kde=True, fill=True, bins=24, color=\"red\")"
   ]
  },
  {
   "cell_type": "markdown",
   "id": "83bb0744",
   "metadata": {},
   "source": [
    "## 5. Song Analysis"
   ]
  },
  {
   "cell_type": "code",
   "execution_count": 35,
   "id": "d06231eb",
   "metadata": {
    "ExecuteTime": {
     "end_time": "2022-01-22T16:35:50.499742Z",
     "start_time": "2022-01-22T16:35:50.455698Z"
    }
   },
   "outputs": [
    {
     "data": {
      "text/html": [
       "<div>\n",
       "<style scoped>\n",
       "    .dataframe tbody tr th:only-of-type {\n",
       "        vertical-align: middle;\n",
       "    }\n",
       "\n",
       "    .dataframe tbody tr th {\n",
       "        vertical-align: top;\n",
       "    }\n",
       "\n",
       "    .dataframe thead th {\n",
       "        text-align: right;\n",
       "    }\n",
       "</style>\n",
       "<table border=\"1\" class=\"dataframe\">\n",
       "  <thead>\n",
       "    <tr style=\"text-align: right;\">\n",
       "      <th></th>\n",
       "      <th>Index</th>\n",
       "      <th>SongName</th>\n",
       "      <th>ArtistName</th>\n",
       "      <th>Popularity</th>\n",
       "      <th>SongID</th>\n",
       "      <th>Danceability</th>\n",
       "      <th>Energy</th>\n",
       "      <th>Key</th>\n",
       "      <th>Loudness</th>\n",
       "      <th>Mode</th>\n",
       "      <th>...</th>\n",
       "      <th>Year</th>\n",
       "      <th>Month</th>\n",
       "      <th>Day</th>\n",
       "      <th>Weekday</th>\n",
       "      <th>Day name</th>\n",
       "      <th>Time</th>\n",
       "      <th>Hours</th>\n",
       "      <th>Count</th>\n",
       "      <th>Listening Time (Hours)</th>\n",
       "      <th>Listening Time (Minutes)</th>\n",
       "    </tr>\n",
       "  </thead>\n",
       "  <tbody>\n",
       "    <tr>\n",
       "      <th>2095</th>\n",
       "      <td>2095</td>\n",
       "      <td>Fingers Crossed (with Julia Michaels)</td>\n",
       "      <td>Trevor Daniel</td>\n",
       "      <td>97</td>\n",
       "      <td>5HCyWlXZPP0y6Gqq8TgA20</td>\n",
       "      <td>0.591</td>\n",
       "      <td>0.764</td>\n",
       "      <td>1</td>\n",
       "      <td>-5.484</td>\n",
       "      <td>1</td>\n",
       "      <td>...</td>\n",
       "      <td>2021</td>\n",
       "      <td>7</td>\n",
       "      <td>31</td>\n",
       "      <td>5</td>\n",
       "      <td>Saturday</td>\n",
       "      <td>12:04:00</td>\n",
       "      <td>12</td>\n",
       "      <td>1</td>\n",
       "      <td>0.043</td>\n",
       "      <td>2.583</td>\n",
       "    </tr>\n",
       "    <tr>\n",
       "      <th>1977</th>\n",
       "      <td>1977</td>\n",
       "      <td>good 4 u</td>\n",
       "      <td>Olivia Rodrigo</td>\n",
       "      <td>97</td>\n",
       "      <td>5HCyWlXZPP0y6Gqq8TgA20</td>\n",
       "      <td>0.591</td>\n",
       "      <td>0.764</td>\n",
       "      <td>1</td>\n",
       "      <td>-5.484</td>\n",
       "      <td>1</td>\n",
       "      <td>...</td>\n",
       "      <td>2021</td>\n",
       "      <td>7</td>\n",
       "      <td>26</td>\n",
       "      <td>0</td>\n",
       "      <td>Monday</td>\n",
       "      <td>12:47:00</td>\n",
       "      <td>12</td>\n",
       "      <td>1</td>\n",
       "      <td>0.049</td>\n",
       "      <td>2.967</td>\n",
       "    </tr>\n",
       "    <tr>\n",
       "      <th>2416</th>\n",
       "      <td>2416</td>\n",
       "      <td>Party Girl</td>\n",
       "      <td>StaySolidRocky</td>\n",
       "      <td>97</td>\n",
       "      <td>5HCyWlXZPP0y6Gqq8TgA20</td>\n",
       "      <td>0.591</td>\n",
       "      <td>0.764</td>\n",
       "      <td>1</td>\n",
       "      <td>-5.484</td>\n",
       "      <td>1</td>\n",
       "      <td>...</td>\n",
       "      <td>2021</td>\n",
       "      <td>8</td>\n",
       "      <td>12</td>\n",
       "      <td>3</td>\n",
       "      <td>Thursday</td>\n",
       "      <td>11:34:00</td>\n",
       "      <td>11</td>\n",
       "      <td>1</td>\n",
       "      <td>0.041</td>\n",
       "      <td>2.450</td>\n",
       "    </tr>\n",
       "    <tr>\n",
       "      <th>2378</th>\n",
       "      <td>2378</td>\n",
       "      <td>Rewrite The Stars</td>\n",
       "      <td>Zac Efron</td>\n",
       "      <td>97</td>\n",
       "      <td>5HCyWlXZPP0y6Gqq8TgA20</td>\n",
       "      <td>0.591</td>\n",
       "      <td>0.764</td>\n",
       "      <td>1</td>\n",
       "      <td>-5.484</td>\n",
       "      <td>1</td>\n",
       "      <td>...</td>\n",
       "      <td>2021</td>\n",
       "      <td>8</td>\n",
       "      <td>12</td>\n",
       "      <td>3</td>\n",
       "      <td>Thursday</td>\n",
       "      <td>05:53:00</td>\n",
       "      <td>5</td>\n",
       "      <td>1</td>\n",
       "      <td>0.001</td>\n",
       "      <td>0.033</td>\n",
       "    </tr>\n",
       "    <tr>\n",
       "      <th>1833</th>\n",
       "      <td>1833</td>\n",
       "      <td>Real Shit (with benny blanco)</td>\n",
       "      <td>Juice WRLD</td>\n",
       "      <td>97</td>\n",
       "      <td>5HCyWlXZPP0y6Gqq8TgA20</td>\n",
       "      <td>0.591</td>\n",
       "      <td>0.764</td>\n",
       "      <td>1</td>\n",
       "      <td>-5.484</td>\n",
       "      <td>1</td>\n",
       "      <td>...</td>\n",
       "      <td>2021</td>\n",
       "      <td>7</td>\n",
       "      <td>20</td>\n",
       "      <td>1</td>\n",
       "      <td>Tuesday</td>\n",
       "      <td>10:09:00</td>\n",
       "      <td>10</td>\n",
       "      <td>1</td>\n",
       "      <td>0.023</td>\n",
       "      <td>1.383</td>\n",
       "    </tr>\n",
       "  </tbody>\n",
       "</table>\n",
       "<p>5 rows × 27 columns</p>\n",
       "</div>"
      ],
      "text/plain": [
       "      Index                               SongName      ArtistName  \\\n",
       "2095   2095  Fingers Crossed (with Julia Michaels)   Trevor Daniel   \n",
       "1977   1977                               good 4 u  Olivia Rodrigo   \n",
       "2416   2416                             Party Girl  StaySolidRocky   \n",
       "2378   2378                      Rewrite The Stars       Zac Efron   \n",
       "1833   1833          Real Shit (with benny blanco)      Juice WRLD   \n",
       "\n",
       "      Popularity                  SongID  Danceability  Energy  Key  Loudness  \\\n",
       "2095          97  5HCyWlXZPP0y6Gqq8TgA20         0.591   0.764    1    -5.484   \n",
       "1977          97  5HCyWlXZPP0y6Gqq8TgA20         0.591   0.764    1    -5.484   \n",
       "2416          97  5HCyWlXZPP0y6Gqq8TgA20         0.591   0.764    1    -5.484   \n",
       "2378          97  5HCyWlXZPP0y6Gqq8TgA20         0.591   0.764    1    -5.484   \n",
       "1833          97  5HCyWlXZPP0y6Gqq8TgA20         0.591   0.764    1    -5.484   \n",
       "\n",
       "      Mode  ...  Year  Month  Day  Weekday  Day name      Time  Hours  Count  \\\n",
       "2095     1  ...  2021      7   31        5  Saturday  12:04:00     12      1   \n",
       "1977     1  ...  2021      7   26        0    Monday  12:47:00     12      1   \n",
       "2416     1  ...  2021      8   12        3  Thursday  11:34:00     11      1   \n",
       "2378     1  ...  2021      8   12        3  Thursday  05:53:00      5      1   \n",
       "1833     1  ...  2021      7   20        1   Tuesday  10:09:00     10      1   \n",
       "\n",
       "      Listening Time (Hours)  Listening Time (Minutes)  \n",
       "2095                   0.043                     2.583  \n",
       "1977                   0.049                     2.967  \n",
       "2416                   0.041                     2.450  \n",
       "2378                   0.001                     0.033  \n",
       "1833                   0.023                     1.383  \n",
       "\n",
       "[5 rows x 27 columns]"
      ]
     },
     "execution_count": 35,
     "metadata": {},
     "output_type": "execute_result"
    }
   ],
   "source": [
    "sorted_df = df.sort_values(by=\"Popularity\", ascending=False)\n",
    "sorted_df.head()"
   ]
  },
  {
   "cell_type": "code",
   "execution_count": 36,
   "id": "e3991d0d",
   "metadata": {
    "ExecuteTime": {
     "end_time": "2022-01-22T16:35:50.530689Z",
     "start_time": "2022-01-22T16:35:50.499742Z"
    }
   },
   "outputs": [
    {
     "data": {
      "text/plain": [
       "(100, 27)"
      ]
     },
     "execution_count": 36,
     "metadata": {},
     "output_type": "execute_result"
    }
   ],
   "source": [
    "# Since most a lot of songs have been repeated, I will first drop the duplicates and then sort by popularity\n",
    "cleaned_df = df.drop_duplicates(subset=[\"SongName\"])\n",
    "sorted_df = cleaned_df.sort_values(by=\"Popularity\", ascending=False).head(100)\n",
    "sorted_df.shape"
   ]
  },
  {
   "cell_type": "code",
   "execution_count": 37,
   "id": "86036405",
   "metadata": {
    "ExecuteTime": {
     "end_time": "2022-01-22T16:35:50.558745Z",
     "start_time": "2022-01-22T16:35:50.530689Z"
    }
   },
   "outputs": [],
   "source": [
    "# Analyzing the features based on the top 100 songs of my dataset and all the songs in my dataset\n",
    "audio_features = [\n",
    "    'Danceability', 'Energy', 'Loudness', 'Mode', 'Speechiness',\n",
    "    'Acousticness', 'Instrumentalness', 'Liveness', 'Valence'\n",
    "]\n",
    "\n",
    "# Top 100 songs\n",
    "features = sorted_df[audio_features].mean().to_list()\n",
    "# Whole dataset\n",
    "all_features = df.drop_duplicates(\n",
    "    subset=[\"SongName\"])[audio_features].mean().to_list()"
   ]
  },
  {
   "cell_type": "code",
   "execution_count": 38,
   "id": "425ca0a9",
   "metadata": {
    "ExecuteTime": {
     "end_time": "2022-01-22T16:35:51.355856Z",
     "start_time": "2022-01-22T16:35:50.561741Z"
    }
   },
   "outputs": [
    {
     "data": {
      "text/plain": [
       "<matplotlib.legend.Legend at 0x1a44bab3be0>"
      ]
     },
     "execution_count": 38,
     "metadata": {},
     "output_type": "execute_result"
    },
    {
     "data": {
      "image/png": "[encoded data removed]",
      "text/plain": [
       "<Figure size 1296x1296 with 1 Axes>"
      ]
     },
     "metadata": {
      "needs_background": "light"
     },
     "output_type": "display_data"
    }
   ],
   "source": [
    "angles = np.linspace(0, 2 * np.pi, len(audio_features), endpoint=False)\n",
    "fig = plt.figure(figsize=(18, 18))\n",
    "\n",
    "# Top 100 songs\n",
    "ax = fig.add_subplot(221, polar=True)\n",
    "ax.plot(angles, features, 'o-', linewidth=2, label=\"Popular\", color='blue')\n",
    "ax.fill(angles, features, alpha=0.25, facecolor='blue')\n",
    "ax.set_thetagrids(angles * 180 / np.pi, audio_features, fontsize=13)\n",
    "\n",
    "ax.set_rlabel_position(250)\n",
    "plt.yticks([0.1, 0.2, 0.3, 0.4, 0.5, 0.6, 0.7],\n",
    "           [\"0.1\", '0.2', \"0.3\", \"0.4\", \"0.5\", \"0.6\", '0.7'],\n",
    "           size=12)\n",
    "plt.ylim(0, 0.7)\n",
    "\n",
    "# Whole dataset\n",
    "ax.plot(angles,\n",
    "        all_features,\n",
    "        'o-',\n",
    "        linewidth=2,\n",
    "        label=\"All the Dataset\",\n",
    "        color='orange')\n",
    "ax.fill(angles, all_features, alpha=0.25, facecolor='orange')\n",
    "ax.set_title('Mean Values')\n",
    "ax.grid(True)\n",
    "\n",
    "plt.legend(loc='best', bbox_to_anchor=(0.1, 0.1))"
   ]
  },
  {
   "cell_type": "code",
   "execution_count": 39,
   "id": "efe3fa28",
   "metadata": {
    "ExecuteTime": {
     "end_time": "2022-01-22T16:35:53.349748Z",
     "start_time": "2022-01-22T16:35:51.359461Z"
    }
   },
   "outputs": [
    {
     "data": {
      "image/png": "[encoded data removed]",
      "text/plain": [
       "<Figure size 864x2160 with 20 Axes>"
      ]
     },
     "metadata": {
      "needs_background": "light"
     },
     "output_type": "display_data"
    }
   ],
   "source": [
    "# Comparing the songs through a box plot\n",
    "audio_features = [\n",
    "    'Danceability', 'Energy', 'Key', 'Loudness', 'Speechiness', 'Acousticness',\n",
    "    'Liveness', 'Valence', 'Tempo', 'Popularity'\n",
    "]\n",
    "# cleaned vs sorted\n",
    "fig, ax = plt.subplots(nrows=10, ncols=2, figsize=(12, 30))\n",
    "for index, axs in enumerate(ax):\n",
    "    sns.boxplot(y=sorted_df[audio_features[index]], color=\"Orange\", ax=axs[0])\n",
    "    sns.boxplot(y=cleaned_df[audio_features[index]], color=\"Blue\", ax=axs[1])"
   ]
  },
  {
   "cell_type": "markdown",
   "id": "84faa12b",
   "metadata": {},
   "source": [
    "## 6. Compairing my songs with spotify 2019 dataset"
   ]
  },
  {
   "cell_type": "code",
   "execution_count": 40,
   "id": "0545627b",
   "metadata": {
    "ExecuteTime": {
     "end_time": "2022-01-22T16:35:53.367726Z",
     "start_time": "2022-01-22T16:35:53.352744Z"
    }
   },
   "outputs": [],
   "source": [
    "# Analyzing 2019 spotify data\n",
    "spotify = pd.read_csv(\"Spotify\\\\SpotifyTop50.csv\", encoding=\"ISO-8859-1\")\n",
    "spotify.drop(\"Unnamed: 0\", axis=1, inplace=True)"
   ]
  },
  {
   "cell_type": "code",
   "execution_count": 41,
   "id": "d362d884",
   "metadata": {
    "ExecuteTime": {
     "end_time": "2022-01-22T16:35:53.396716Z",
     "start_time": "2022-01-22T16:35:53.367726Z"
    }
   },
   "outputs": [
    {
     "data": {
      "text/html": [
       "<div>\n",
       "<style scoped>\n",
       "    .dataframe tbody tr th:only-of-type {\n",
       "        vertical-align: middle;\n",
       "    }\n",
       "\n",
       "    .dataframe tbody tr th {\n",
       "        vertical-align: top;\n",
       "    }\n",
       "\n",
       "    .dataframe thead th {\n",
       "        text-align: right;\n",
       "    }\n",
       "</style>\n",
       "<table border=\"1\" class=\"dataframe\">\n",
       "  <thead>\n",
       "    <tr style=\"text-align: right;\">\n",
       "      <th></th>\n",
       "      <th>Track.Name</th>\n",
       "      <th>Artist.Name</th>\n",
       "      <th>Genre</th>\n",
       "      <th>Beats.Per.Minute</th>\n",
       "      <th>Energy</th>\n",
       "      <th>Danceability</th>\n",
       "      <th>Loudness..dB..</th>\n",
       "      <th>Liveness</th>\n",
       "      <th>Valence.</th>\n",
       "      <th>Length.</th>\n",
       "      <th>Acousticness..</th>\n",
       "      <th>Speechiness.</th>\n",
       "      <th>Popularity</th>\n",
       "    </tr>\n",
       "  </thead>\n",
       "  <tbody>\n",
       "    <tr>\n",
       "      <th>0</th>\n",
       "      <td>Senorita</td>\n",
       "      <td>Shawn Mendes</td>\n",
       "      <td>canadian pop</td>\n",
       "      <td>117</td>\n",
       "      <td>55</td>\n",
       "      <td>76</td>\n",
       "      <td>-6</td>\n",
       "      <td>8</td>\n",
       "      <td>75</td>\n",
       "      <td>191</td>\n",
       "      <td>4</td>\n",
       "      <td>3</td>\n",
       "      <td>79</td>\n",
       "    </tr>\n",
       "    <tr>\n",
       "      <th>1</th>\n",
       "      <td>China</td>\n",
       "      <td>Anuel AA</td>\n",
       "      <td>reggaeton flow</td>\n",
       "      <td>105</td>\n",
       "      <td>81</td>\n",
       "      <td>79</td>\n",
       "      <td>-4</td>\n",
       "      <td>8</td>\n",
       "      <td>61</td>\n",
       "      <td>302</td>\n",
       "      <td>8</td>\n",
       "      <td>9</td>\n",
       "      <td>92</td>\n",
       "    </tr>\n",
       "    <tr>\n",
       "      <th>2</th>\n",
       "      <td>boyfriend (with Social House)</td>\n",
       "      <td>Ariana Grande</td>\n",
       "      <td>dance pop</td>\n",
       "      <td>190</td>\n",
       "      <td>80</td>\n",
       "      <td>40</td>\n",
       "      <td>-4</td>\n",
       "      <td>16</td>\n",
       "      <td>70</td>\n",
       "      <td>186</td>\n",
       "      <td>12</td>\n",
       "      <td>46</td>\n",
       "      <td>85</td>\n",
       "    </tr>\n",
       "    <tr>\n",
       "      <th>3</th>\n",
       "      <td>Beautiful People (feat. Khalid)</td>\n",
       "      <td>Ed Sheeran</td>\n",
       "      <td>pop</td>\n",
       "      <td>93</td>\n",
       "      <td>65</td>\n",
       "      <td>64</td>\n",
       "      <td>-8</td>\n",
       "      <td>8</td>\n",
       "      <td>55</td>\n",
       "      <td>198</td>\n",
       "      <td>12</td>\n",
       "      <td>19</td>\n",
       "      <td>86</td>\n",
       "    </tr>\n",
       "    <tr>\n",
       "      <th>4</th>\n",
       "      <td>Goodbyes (Feat. Young Thug)</td>\n",
       "      <td>Post Malone</td>\n",
       "      <td>dfw rap</td>\n",
       "      <td>150</td>\n",
       "      <td>65</td>\n",
       "      <td>58</td>\n",
       "      <td>-4</td>\n",
       "      <td>11</td>\n",
       "      <td>18</td>\n",
       "      <td>175</td>\n",
       "      <td>45</td>\n",
       "      <td>7</td>\n",
       "      <td>94</td>\n",
       "    </tr>\n",
       "  </tbody>\n",
       "</table>\n",
       "</div>"
      ],
      "text/plain": [
       "                        Track.Name    Artist.Name           Genre  \\\n",
       "0                         Senorita   Shawn Mendes    canadian pop   \n",
       "1                            China       Anuel AA  reggaeton flow   \n",
       "2    boyfriend (with Social House)  Ariana Grande       dance pop   \n",
       "3  Beautiful People (feat. Khalid)     Ed Sheeran             pop   \n",
       "4      Goodbyes (Feat. Young Thug)    Post Malone         dfw rap   \n",
       "\n",
       "   Beats.Per.Minute  Energy  Danceability  Loudness..dB..  Liveness  Valence.  \\\n",
       "0               117      55            76              -6         8        75   \n",
       "1               105      81            79              -4         8        61   \n",
       "2               190      80            40              -4        16        70   \n",
       "3                93      65            64              -8         8        55   \n",
       "4               150      65            58              -4        11        18   \n",
       "\n",
       "   Length.  Acousticness..  Speechiness.  Popularity  \n",
       "0      191               4             3          79  \n",
       "1      302               8             9          92  \n",
       "2      186              12            46          85  \n",
       "3      198              12            19          86  \n",
       "4      175              45             7          94  "
      ]
     },
     "execution_count": 41,
     "metadata": {},
     "output_type": "execute_result"
    }
   ],
   "source": [
    "spotify.head()"
   ]
  },
  {
   "cell_type": "code",
   "execution_count": 42,
   "id": "7e78a0b3",
   "metadata": {
    "ExecuteTime": {
     "end_time": "2022-01-22T16:35:53.414030Z",
     "start_time": "2022-01-22T16:35:53.399711Z"
    },
    "scrolled": true
   },
   "outputs": [
    {
     "data": {
      "text/html": [
       "<div>\n",
       "<style scoped>\n",
       "    .dataframe tbody tr th:only-of-type {\n",
       "        vertical-align: middle;\n",
       "    }\n",
       "\n",
       "    .dataframe tbody tr th {\n",
       "        vertical-align: top;\n",
       "    }\n",
       "\n",
       "    .dataframe thead th {\n",
       "        text-align: right;\n",
       "    }\n",
       "</style>\n",
       "<table border=\"1\" class=\"dataframe\">\n",
       "  <thead>\n",
       "    <tr style=\"text-align: right;\">\n",
       "      <th></th>\n",
       "      <th>Beats.Per.Minute</th>\n",
       "      <th>Energy</th>\n",
       "      <th>Danceability</th>\n",
       "      <th>Loudness..dB..</th>\n",
       "      <th>Liveness</th>\n",
       "      <th>Valence.</th>\n",
       "      <th>Acousticness..</th>\n",
       "      <th>Speechiness.</th>\n",
       "    </tr>\n",
       "  </thead>\n",
       "  <tbody>\n",
       "    <tr>\n",
       "      <th>0</th>\n",
       "      <td>117</td>\n",
       "      <td>55</td>\n",
       "      <td>76</td>\n",
       "      <td>-6</td>\n",
       "      <td>8</td>\n",
       "      <td>75</td>\n",
       "      <td>4</td>\n",
       "      <td>3</td>\n",
       "    </tr>\n",
       "    <tr>\n",
       "      <th>1</th>\n",
       "      <td>105</td>\n",
       "      <td>81</td>\n",
       "      <td>79</td>\n",
       "      <td>-4</td>\n",
       "      <td>8</td>\n",
       "      <td>61</td>\n",
       "      <td>8</td>\n",
       "      <td>9</td>\n",
       "    </tr>\n",
       "    <tr>\n",
       "      <th>2</th>\n",
       "      <td>190</td>\n",
       "      <td>80</td>\n",
       "      <td>40</td>\n",
       "      <td>-4</td>\n",
       "      <td>16</td>\n",
       "      <td>70</td>\n",
       "      <td>12</td>\n",
       "      <td>46</td>\n",
       "    </tr>\n",
       "    <tr>\n",
       "      <th>3</th>\n",
       "      <td>93</td>\n",
       "      <td>65</td>\n",
       "      <td>64</td>\n",
       "      <td>-8</td>\n",
       "      <td>8</td>\n",
       "      <td>55</td>\n",
       "      <td>12</td>\n",
       "      <td>19</td>\n",
       "    </tr>\n",
       "    <tr>\n",
       "      <th>4</th>\n",
       "      <td>150</td>\n",
       "      <td>65</td>\n",
       "      <td>58</td>\n",
       "      <td>-4</td>\n",
       "      <td>11</td>\n",
       "      <td>18</td>\n",
       "      <td>45</td>\n",
       "      <td>7</td>\n",
       "    </tr>\n",
       "  </tbody>\n",
       "</table>\n",
       "</div>"
      ],
      "text/plain": [
       "   Beats.Per.Minute  Energy  Danceability  Loudness..dB..  Liveness  Valence.  \\\n",
       "0               117      55            76              -6         8        75   \n",
       "1               105      81            79              -4         8        61   \n",
       "2               190      80            40              -4        16        70   \n",
       "3                93      65            64              -8         8        55   \n",
       "4               150      65            58              -4        11        18   \n",
       "\n",
       "   Acousticness..  Speechiness.  \n",
       "0               4             3  \n",
       "1               8             9  \n",
       "2              12            46  \n",
       "3              12            19  \n",
       "4              45             7  "
      ]
     },
     "execution_count": 42,
     "metadata": {},
     "output_type": "execute_result"
    }
   ],
   "source": [
    "spotify_cols = [\n",
    "    'Beats.Per.Minute', 'Energy', 'Danceability', 'Loudness..dB..', 'Liveness',\n",
    "    'Valence.', 'Acousticness..', 'Speechiness.'\n",
    "]\n",
    "spotify[spotify_cols].head()"
   ]
  },
  {
   "cell_type": "code",
   "execution_count": 43,
   "id": "0e454902",
   "metadata": {
    "ExecuteTime": {
     "end_time": "2022-01-22T16:35:53.429989Z",
     "start_time": "2022-01-22T16:35:53.417027Z"
    }
   },
   "outputs": [],
   "source": [
    "audio_features = [\n",
    "    'Tempo', 'Energy', 'Danceability', 'Loudness', 'Liveness', 'Valence',\n",
    "    'Acousticness', 'Speechiness'\n",
    "]\n",
    "# Whole dataset\n",
    "all_features = df[audio_features].mean().to_list()"
   ]
  },
  {
   "cell_type": "code",
   "execution_count": 44,
   "id": "91fa6bfa",
   "metadata": {
    "ExecuteTime": {
     "end_time": "2022-01-22T16:35:53.445910Z",
     "start_time": "2022-01-22T16:35:53.432985Z"
    }
   },
   "outputs": [],
   "source": [
    "spotify_features = spotify[spotify_cols].mean().to_list()\n",
    "spotify_features[1] = spotify_features[1] / 100\n",
    "spotify_features[2] = spotify_features[2] / 100\n",
    "spotify_features[4] = spotify_features[4] / 100\n",
    "spotify_features[5] = spotify_features[5] / 100\n",
    "spotify_features[6] = spotify_features[6] / 100\n",
    "spotify_features[7] = spotify_features[7] / 100"
   ]
  },
  {
   "cell_type": "code",
   "execution_count": 45,
   "id": "62e39043",
   "metadata": {
    "ExecuteTime": {
     "end_time": "2022-01-22T16:35:54.137574Z",
     "start_time": "2022-01-22T16:35:53.447238Z"
    }
   },
   "outputs": [
    {
     "data": {
      "text/plain": [
       "<matplotlib.legend.Legend at 0x1a44b8a6bb0>"
      ]
     },
     "execution_count": 45,
     "metadata": {},
     "output_type": "execute_result"
    },
    {
     "data": {
      "image/png": "[encoded data removed]",
      "text/plain": [
       "<Figure size 1296x1296 with 1 Axes>"
      ]
     },
     "metadata": {
      "needs_background": "light"
     },
     "output_type": "display_data"
    }
   ],
   "source": [
    "angles = np.linspace(0, 2 * np.pi, len(audio_features), endpoint=False)\n",
    "fig = plt.figure(figsize=(18, 18))\n",
    "\n",
    "# Top 50 popular songs\n",
    "ax = fig.add_subplot(221, polar=True)\n",
    "ax.plot(angles,\n",
    "        spotify_features,\n",
    "        'o-',\n",
    "        linewidth=2,\n",
    "        label=\"Spotify 2019 Top Songs\",\n",
    "        color='blue')\n",
    "ax.fill(angles, spotify_features, alpha=0.25, facecolor='blue')\n",
    "ax.set_thetagrids(angles * 180 / np.pi, audio_features, fontsize=13)\n",
    "\n",
    "ax.set_rlabel_position(250)\n",
    "plt.yticks([0.1, 0.2, 0.3, 0.4, 0.5, 0.6, 0.7],\n",
    "           [\"0.1\", '0.2', \"0.3\", \"0.4\", \"0.5\", \"0.6\", '0.7'],\n",
    "           size=12)\n",
    "plt.ylim(0, 0.7)\n",
    "\n",
    "# Whole dataset\n",
    "ax.plot(angles,\n",
    "        all_features,\n",
    "        'o-',\n",
    "        linewidth=2,\n",
    "        label=\"My Songs\",\n",
    "        color='orange')\n",
    "ax.fill(angles, all_features, alpha=0.25, facecolor='orange')\n",
    "ax.set_title('Mean Values')\n",
    "ax.grid(True)\n",
    "\n",
    "plt.legend(loc='best', bbox_to_anchor=(0.1, 0.1))"
   ]
  }
 ],
 "metadata": {
  "kernelspec": {
   "display_name": "Python 3 (ipykernel)",
   "language": "python",
   "name": "python3"
  },
  "language_info": {
   "codemirror_mode": {
    "name": "ipython",
    "version": 3
   },
   "file_extension": ".py",
   "mimetype": "text/x-python",
   "name": "python",
   "nbconvert_exporter": "python",
   "pygments_lexer": "ipython3",
   "version": "3.9.7"
  },
  "toc": {
   "base_numbering": 1,
   "nav_menu": {},
   "number_sections": true,
   "sideBar": true,
   "skip_h1_title": false,
   "title_cell": "Table of Contents",
   "title_sidebar": "Contents",
   "toc_cell": false,
   "toc_position": {
    "height": "calc(100% - 180px)",
    "left": "10px",
    "top": "150px",
    "width": "320.6px"
   },
   "toc_section_display": true,
   "toc_window_display": false
  },
  "varInspector": {
   "cols": {
    "lenName": 16,
    "lenType": 16,
    "lenVar": 40
   },
   "kernels_config": {
    "python": {
     "delete_cmd_postfix": "",
     "delete_cmd_prefix": "del ",
     "library": "var_list.py",
     "varRefreshCmd": "print(var_dic_list())"
    },
    "r": {
     "delete_cmd_postfix": ") ",
     "delete_cmd_prefix": "rm(",
     "library": "var_list.r",
     "varRefreshCmd": "cat(var_dic_list()) "
    }
   },
   "types_to_exclude": [
    "module",
    "function",
    "builtin_function_or_method",
    "instance",
    "_Feature"
   ],
   "window_display": false
  }
 },
 "nbformat": 4,
 "nbformat_minor": 5
}
