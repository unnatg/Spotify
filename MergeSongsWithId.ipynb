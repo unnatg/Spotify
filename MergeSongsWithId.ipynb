{
 "cells": [
  {
   "cell_type": "code",
   "execution_count": 1,
   "id": "adb105f6",
   "metadata": {
    "ExecuteTime": {
     "end_time": "2022-01-22T16:20:19.173741Z",
     "start_time": "2022-01-22T16:20:18.809465Z"
    }
   },
   "outputs": [],
   "source": [
    "import numpy as np\n",
    "import pandas as pd"
   ]
  },
  {
   "cell_type": "code",
   "execution_count": 2,
   "id": "5018d0ac",
   "metadata": {
    "ExecuteTime": {
     "end_time": "2022-01-22T16:20:19.764501Z",
     "start_time": "2022-01-22T16:20:19.720507Z"
    }
   },
   "outputs": [],
   "source": [
    "df1 = pd.read_json(\"Spotify\\\\StreamingHistory.json\")\n",
    "df2 = pd.read_csv(\"ExtractedSongInformation\\\\SongsInformation.csv\")"
   ]
  },
  {
   "cell_type": "code",
   "execution_count": 3,
   "id": "5bf922dd",
   "metadata": {
    "ExecuteTime": {
     "end_time": "2022-01-22T16:20:21.058525Z",
     "start_time": "2022-01-22T16:20:21.030888Z"
    }
   },
   "outputs": [
    {
     "data": {
      "text/html": [
       "<div>\n",
       "<style scoped>\n",
       "    .dataframe tbody tr th:only-of-type {\n",
       "        vertical-align: middle;\n",
       "    }\n",
       "\n",
       "    .dataframe tbody tr th {\n",
       "        vertical-align: top;\n",
       "    }\n",
       "\n",
       "    .dataframe thead th {\n",
       "        text-align: right;\n",
       "    }\n",
       "</style>\n",
       "<table border=\"1\" class=\"dataframe\">\n",
       "  <thead>\n",
       "    <tr style=\"text-align: right;\">\n",
       "      <th></th>\n",
       "      <th>endTime</th>\n",
       "      <th>artistName</th>\n",
       "      <th>trackName</th>\n",
       "      <th>msPlayed</th>\n",
       "    </tr>\n",
       "  </thead>\n",
       "  <tbody>\n",
       "    <tr>\n",
       "      <th>0</th>\n",
       "      <td>2021-02-02 02:08</td>\n",
       "      <td>Yo Yo Honey Singh</td>\n",
       "      <td>Saiyaan Ji</td>\n",
       "      <td>64760</td>\n",
       "    </tr>\n",
       "    <tr>\n",
       "      <th>1</th>\n",
       "      <td>2021-02-02 02:09</td>\n",
       "      <td>Trevor Daniel</td>\n",
       "      <td>Falling</td>\n",
       "      <td>23970</td>\n",
       "    </tr>\n",
       "    <tr>\n",
       "      <th>2</th>\n",
       "      <td>2021-02-02 02:09</td>\n",
       "      <td>Pritam</td>\n",
       "      <td>Shayad</td>\n",
       "      <td>6210</td>\n",
       "    </tr>\n",
       "    <tr>\n",
       "      <th>3</th>\n",
       "      <td>2021-02-02 02:14</td>\n",
       "      <td>Ved Sharma</td>\n",
       "      <td>Malang (Title Track) [From \"Malang - Unleash T...</td>\n",
       "      <td>287374</td>\n",
       "    </tr>\n",
       "    <tr>\n",
       "      <th>4</th>\n",
       "      <td>2021-02-02 02:14</td>\n",
       "      <td>Badshah</td>\n",
       "      <td>Genda Phool (feat. Payal Dev)</td>\n",
       "      <td>27705</td>\n",
       "    </tr>\n",
       "  </tbody>\n",
       "</table>\n",
       "</div>"
      ],
      "text/plain": [
       "            endTime         artistName  \\\n",
       "0  2021-02-02 02:08  Yo Yo Honey Singh   \n",
       "1  2021-02-02 02:09      Trevor Daniel   \n",
       "2  2021-02-02 02:09             Pritam   \n",
       "3  2021-02-02 02:14         Ved Sharma   \n",
       "4  2021-02-02 02:14            Badshah   \n",
       "\n",
       "                                           trackName  msPlayed  \n",
       "0                                         Saiyaan Ji     64760  \n",
       "1                                            Falling     23970  \n",
       "2                                             Shayad      6210  \n",
       "3  Malang (Title Track) [From \"Malang - Unleash T...    287374  \n",
       "4                      Genda Phool (feat. Payal Dev)     27705  "
      ]
     },
     "execution_count": 3,
     "metadata": {},
     "output_type": "execute_result"
    }
   ],
   "source": [
    "df1.head()"
   ]
  },
  {
   "cell_type": "code",
   "execution_count": 4,
   "id": "730dbb36",
   "metadata": {
    "ExecuteTime": {
     "end_time": "2022-01-22T16:20:23.317320Z",
     "start_time": "2022-01-22T16:20:23.301292Z"
    }
   },
   "outputs": [
    {
     "data": {
      "text/html": [
       "<div>\n",
       "<style scoped>\n",
       "    .dataframe tbody tr th:only-of-type {\n",
       "        vertical-align: middle;\n",
       "    }\n",
       "\n",
       "    .dataframe tbody tr th {\n",
       "        vertical-align: top;\n",
       "    }\n",
       "\n",
       "    .dataframe thead th {\n",
       "        text-align: right;\n",
       "    }\n",
       "</style>\n",
       "<table border=\"1\" class=\"dataframe\">\n",
       "  <thead>\n",
       "    <tr style=\"text-align: right;\">\n",
       "      <th></th>\n",
       "      <th>EndTime</th>\n",
       "      <th>ArtistName</th>\n",
       "      <th>SongName</th>\n",
       "      <th>msPlayed</th>\n",
       "    </tr>\n",
       "  </thead>\n",
       "  <tbody>\n",
       "    <tr>\n",
       "      <th>0</th>\n",
       "      <td>2021-02-02 02:08</td>\n",
       "      <td>Yo Yo Honey Singh</td>\n",
       "      <td>Saiyaan Ji</td>\n",
       "      <td>64760</td>\n",
       "    </tr>\n",
       "    <tr>\n",
       "      <th>1</th>\n",
       "      <td>2021-02-02 02:09</td>\n",
       "      <td>Trevor Daniel</td>\n",
       "      <td>Falling</td>\n",
       "      <td>23970</td>\n",
       "    </tr>\n",
       "    <tr>\n",
       "      <th>2</th>\n",
       "      <td>2021-02-02 02:09</td>\n",
       "      <td>Pritam</td>\n",
       "      <td>Shayad</td>\n",
       "      <td>6210</td>\n",
       "    </tr>\n",
       "    <tr>\n",
       "      <th>3</th>\n",
       "      <td>2021-02-02 02:14</td>\n",
       "      <td>Ved Sharma</td>\n",
       "      <td>Malang (Title Track) [From \"Malang - Unleash T...</td>\n",
       "      <td>287374</td>\n",
       "    </tr>\n",
       "    <tr>\n",
       "      <th>4</th>\n",
       "      <td>2021-02-02 02:14</td>\n",
       "      <td>Badshah</td>\n",
       "      <td>Genda Phool (feat. Payal Dev)</td>\n",
       "      <td>27705</td>\n",
       "    </tr>\n",
       "  </tbody>\n",
       "</table>\n",
       "</div>"
      ],
      "text/plain": [
       "            EndTime         ArtistName  \\\n",
       "0  2021-02-02 02:08  Yo Yo Honey Singh   \n",
       "1  2021-02-02 02:09      Trevor Daniel   \n",
       "2  2021-02-02 02:09             Pritam   \n",
       "3  2021-02-02 02:14         Ved Sharma   \n",
       "4  2021-02-02 02:14            Badshah   \n",
       "\n",
       "                                            SongName  msPlayed  \n",
       "0                                         Saiyaan Ji     64760  \n",
       "1                                            Falling     23970  \n",
       "2                                             Shayad      6210  \n",
       "3  Malang (Title Track) [From \"Malang - Unleash T...    287374  \n",
       "4                      Genda Phool (feat. Payal Dev)     27705  "
      ]
     },
     "execution_count": 4,
     "metadata": {},
     "output_type": "execute_result"
    }
   ],
   "source": [
    "df1.rename(columns={\"endTime\": \"EndTime\",\n",
    "                   \"artistName\": \"ArtistName\",\n",
    "                   \"trackName\": \"SongName\"}, inplace=True)\n",
    "df1.head()"
   ]
  },
  {
   "cell_type": "code",
   "execution_count": 5,
   "id": "2c4bcc04",
   "metadata": {
    "ExecuteTime": {
     "end_time": "2022-01-22T16:20:23.980731Z",
     "start_time": "2022-01-22T16:20:23.962081Z"
    }
   },
   "outputs": [
    {
     "data": {
      "text/html": [
       "<div>\n",
       "<style scoped>\n",
       "    .dataframe tbody tr th:only-of-type {\n",
       "        vertical-align: middle;\n",
       "    }\n",
       "\n",
       "    .dataframe tbody tr th {\n",
       "        vertical-align: top;\n",
       "    }\n",
       "\n",
       "    .dataframe thead th {\n",
       "        text-align: right;\n",
       "    }\n",
       "</style>\n",
       "<table border=\"1\" class=\"dataframe\">\n",
       "  <thead>\n",
       "    <tr style=\"text-align: right;\">\n",
       "      <th></th>\n",
       "      <th>Index</th>\n",
       "      <th>SongName</th>\n",
       "      <th>ArtistName</th>\n",
       "      <th>SongID</th>\n",
       "      <th>Popularity</th>\n",
       "    </tr>\n",
       "  </thead>\n",
       "  <tbody>\n",
       "    <tr>\n",
       "      <th>0</th>\n",
       "      <td>0</td>\n",
       "      <td>Saiyaan Ji</td>\n",
       "      <td>Yo Yo Honey Singh</td>\n",
       "      <td>39QJ7KkN3L8LLqQqsO85W1</td>\n",
       "      <td>62</td>\n",
       "    </tr>\n",
       "    <tr>\n",
       "      <th>1</th>\n",
       "      <td>1</td>\n",
       "      <td>Falling</td>\n",
       "      <td>Trevor Daniel</td>\n",
       "      <td>0Aqi7ArnBrGblW5T6p2jmD</td>\n",
       "      <td>84</td>\n",
       "    </tr>\n",
       "    <tr>\n",
       "      <th>2</th>\n",
       "      <td>2</td>\n",
       "      <td>Shayad</td>\n",
       "      <td>Pritam</td>\n",
       "      <td>1smFN2CLqGROu0J0UyvDfL</td>\n",
       "      <td>72</td>\n",
       "    </tr>\n",
       "    <tr>\n",
       "      <th>3</th>\n",
       "      <td>3</td>\n",
       "      <td>Malang (Title Track) [From \"Malang - Unleash T...</td>\n",
       "      <td>Ved Sharma</td>\n",
       "      <td>25MPTnqXQB1H6OkwSYUXWx</td>\n",
       "      <td>68</td>\n",
       "    </tr>\n",
       "    <tr>\n",
       "      <th>4</th>\n",
       "      <td>4</td>\n",
       "      <td>Genda Phool (feat. Payal Dev)</td>\n",
       "      <td>Badshah</td>\n",
       "      <td>0gzu5mm36VJH2Zqu8sQPTf</td>\n",
       "      <td>67</td>\n",
       "    </tr>\n",
       "  </tbody>\n",
       "</table>\n",
       "</div>"
      ],
      "text/plain": [
       "   Index                                           SongName  \\\n",
       "0      0                                         Saiyaan Ji   \n",
       "1      1                                            Falling   \n",
       "2      2                                             Shayad   \n",
       "3      3  Malang (Title Track) [From \"Malang - Unleash T...   \n",
       "4      4                      Genda Phool (feat. Payal Dev)   \n",
       "\n",
       "          ArtistName                  SongID  Popularity  \n",
       "0  Yo Yo Honey Singh  39QJ7KkN3L8LLqQqsO85W1          62  \n",
       "1      Trevor Daniel  0Aqi7ArnBrGblW5T6p2jmD          84  \n",
       "2             Pritam  1smFN2CLqGROu0J0UyvDfL          72  \n",
       "3         Ved Sharma  25MPTnqXQB1H6OkwSYUXWx          68  \n",
       "4            Badshah  0gzu5mm36VJH2Zqu8sQPTf          67  "
      ]
     },
     "execution_count": 5,
     "metadata": {},
     "output_type": "execute_result"
    }
   ],
   "source": [
    "df2.head()"
   ]
  },
  {
   "cell_type": "code",
   "execution_count": 6,
   "id": "5dfce9c0",
   "metadata": {
    "ExecuteTime": {
     "end_time": "2022-01-22T16:20:24.695884Z",
     "start_time": "2022-01-22T16:20:24.674507Z"
    }
   },
   "outputs": [
    {
     "data": {
      "text/html": [
       "<div>\n",
       "<style scoped>\n",
       "    .dataframe tbody tr th:only-of-type {\n",
       "        vertical-align: middle;\n",
       "    }\n",
       "\n",
       "    .dataframe tbody tr th {\n",
       "        vertical-align: top;\n",
       "    }\n",
       "\n",
       "    .dataframe thead th {\n",
       "        text-align: right;\n",
       "    }\n",
       "</style>\n",
       "<table border=\"1\" class=\"dataframe\">\n",
       "  <thead>\n",
       "    <tr style=\"text-align: right;\">\n",
       "      <th></th>\n",
       "      <th>SongName</th>\n",
       "      <th>ArtistName</th>\n",
       "      <th>SongID</th>\n",
       "      <th>Popularity</th>\n",
       "    </tr>\n",
       "    <tr>\n",
       "      <th>Index</th>\n",
       "      <th></th>\n",
       "      <th></th>\n",
       "      <th></th>\n",
       "      <th></th>\n",
       "    </tr>\n",
       "  </thead>\n",
       "  <tbody>\n",
       "    <tr>\n",
       "      <th>0</th>\n",
       "      <td>Saiyaan Ji</td>\n",
       "      <td>Yo Yo Honey Singh</td>\n",
       "      <td>39QJ7KkN3L8LLqQqsO85W1</td>\n",
       "      <td>62</td>\n",
       "    </tr>\n",
       "    <tr>\n",
       "      <th>1</th>\n",
       "      <td>Falling</td>\n",
       "      <td>Trevor Daniel</td>\n",
       "      <td>0Aqi7ArnBrGblW5T6p2jmD</td>\n",
       "      <td>84</td>\n",
       "    </tr>\n",
       "    <tr>\n",
       "      <th>2</th>\n",
       "      <td>Shayad</td>\n",
       "      <td>Pritam</td>\n",
       "      <td>1smFN2CLqGROu0J0UyvDfL</td>\n",
       "      <td>72</td>\n",
       "    </tr>\n",
       "    <tr>\n",
       "      <th>3</th>\n",
       "      <td>Malang (Title Track) [From \"Malang - Unleash T...</td>\n",
       "      <td>Ved Sharma</td>\n",
       "      <td>25MPTnqXQB1H6OkwSYUXWx</td>\n",
       "      <td>68</td>\n",
       "    </tr>\n",
       "    <tr>\n",
       "      <th>4</th>\n",
       "      <td>Genda Phool (feat. Payal Dev)</td>\n",
       "      <td>Badshah</td>\n",
       "      <td>0gzu5mm36VJH2Zqu8sQPTf</td>\n",
       "      <td>67</td>\n",
       "    </tr>\n",
       "    <tr>\n",
       "      <th>...</th>\n",
       "      <td>...</td>\n",
       "      <td>...</td>\n",
       "      <td>...</td>\n",
       "      <td>...</td>\n",
       "    </tr>\n",
       "    <tr>\n",
       "      <th>3901</th>\n",
       "      <td>Lost</td>\n",
       "      <td>Maroon 5</td>\n",
       "      <td>18XlJEroUwFo0tLZxscgXE</td>\n",
       "      <td>79</td>\n",
       "    </tr>\n",
       "    <tr>\n",
       "      <th>3902</th>\n",
       "      <td>Shots - Broiler Remix</td>\n",
       "      <td>Imagine Dragons</td>\n",
       "      <td>0fsEFwLSJTSHSawhe864Cp</td>\n",
       "      <td>69</td>\n",
       "    </tr>\n",
       "    <tr>\n",
       "      <th>3904</th>\n",
       "      <td>Bloodstream</td>\n",
       "      <td>Stateless</td>\n",
       "      <td>5I2UElY0XPnPhQhBTxBcq3</td>\n",
       "      <td>60</td>\n",
       "    </tr>\n",
       "    <tr>\n",
       "      <th>3905</th>\n",
       "      <td>How You Like Me Now? - Raffertie Remix</td>\n",
       "      <td>The Heavy</td>\n",
       "      <td>0o2lMW2T77pq8utWLQ4b2U</td>\n",
       "      <td>54</td>\n",
       "    </tr>\n",
       "    <tr>\n",
       "      <th>3906</th>\n",
       "      <td>Le vent nous portera</td>\n",
       "      <td>Sophie Hunger</td>\n",
       "      <td>5TuICc3rZeDaNP7mpRqlFj</td>\n",
       "      <td>56</td>\n",
       "    </tr>\n",
       "  </tbody>\n",
       "</table>\n",
       "<p>3731 rows × 4 columns</p>\n",
       "</div>"
      ],
      "text/plain": [
       "                                                SongName         ArtistName  \\\n",
       "Index                                                                         \n",
       "0                                             Saiyaan Ji  Yo Yo Honey Singh   \n",
       "1                                                Falling      Trevor Daniel   \n",
       "2                                                 Shayad             Pritam   \n",
       "3      Malang (Title Track) [From \"Malang - Unleash T...         Ved Sharma   \n",
       "4                          Genda Phool (feat. Payal Dev)            Badshah   \n",
       "...                                                  ...                ...   \n",
       "3901                                                Lost           Maroon 5   \n",
       "3902                               Shots - Broiler Remix    Imagine Dragons   \n",
       "3904                                         Bloodstream          Stateless   \n",
       "3905              How You Like Me Now? - Raffertie Remix          The Heavy   \n",
       "3906                                Le vent nous portera      Sophie Hunger   \n",
       "\n",
       "                       SongID  Popularity  \n",
       "Index                                      \n",
       "0      39QJ7KkN3L8LLqQqsO85W1          62  \n",
       "1      0Aqi7ArnBrGblW5T6p2jmD          84  \n",
       "2      1smFN2CLqGROu0J0UyvDfL          72  \n",
       "3      25MPTnqXQB1H6OkwSYUXWx          68  \n",
       "4      0gzu5mm36VJH2Zqu8sQPTf          67  \n",
       "...                       ...         ...  \n",
       "3901   18XlJEroUwFo0tLZxscgXE          79  \n",
       "3902   0fsEFwLSJTSHSawhe864Cp          69  \n",
       "3904   5I2UElY0XPnPhQhBTxBcq3          60  \n",
       "3905   0o2lMW2T77pq8utWLQ4b2U          54  \n",
       "3906   5TuICc3rZeDaNP7mpRqlFj          56  \n",
       "\n",
       "[3731 rows x 4 columns]"
      ]
     },
     "execution_count": 6,
     "metadata": {},
     "output_type": "execute_result"
    }
   ],
   "source": [
    "df2.set_index(\"Index\")"
   ]
  },
  {
   "cell_type": "code",
   "execution_count": 7,
   "id": "add16f69",
   "metadata": {
    "ExecuteTime": {
     "end_time": "2022-01-22T16:20:25.163688Z",
     "start_time": "2022-01-22T16:20:25.152728Z"
    }
   },
   "outputs": [],
   "source": [
    "df2.set_index(\"Index\", inplace=True)"
   ]
  },
  {
   "cell_type": "code",
   "execution_count": 8,
   "id": "e9d369ec",
   "metadata": {
    "ExecuteTime": {
     "end_time": "2022-01-22T16:20:26.079674Z",
     "start_time": "2022-01-22T16:20:26.074757Z"
    }
   },
   "outputs": [
    {
     "data": {
      "text/plain": [
       "Int64Index([   0,    1,    2,    3,    4,    5,    6,    7,    8,    9,\n",
       "            ...\n",
       "            3896, 3897, 3898, 3899, 3900, 3901, 3902, 3904, 3905, 3906],\n",
       "           dtype='int64', name='Index', length=3731)"
      ]
     },
     "execution_count": 8,
     "metadata": {},
     "output_type": "execute_result"
    }
   ],
   "source": [
    "df2.index"
   ]
  },
  {
   "cell_type": "code",
   "execution_count": 9,
   "id": "9706154d",
   "metadata": {
    "ExecuteTime": {
     "end_time": "2022-01-22T16:20:26.495410Z",
     "start_time": "2022-01-22T16:20:26.490425Z"
    }
   },
   "outputs": [
    {
     "data": {
      "text/plain": [
       "(3907, 4)"
      ]
     },
     "execution_count": 9,
     "metadata": {},
     "output_type": "execute_result"
    }
   ],
   "source": [
    "df1.shape"
   ]
  },
  {
   "cell_type": "code",
   "execution_count": 10,
   "id": "868f567d",
   "metadata": {
    "ExecuteTime": {
     "end_time": "2022-01-22T16:20:27.195217Z",
     "start_time": "2022-01-22T16:20:27.186241Z"
    }
   },
   "outputs": [
    {
     "data": {
      "text/plain": [
       "(3731, 4)"
      ]
     },
     "execution_count": 10,
     "metadata": {},
     "output_type": "execute_result"
    }
   ],
   "source": [
    "df2.shape"
   ]
  },
  {
   "cell_type": "code",
   "execution_count": 11,
   "id": "6226971e",
   "metadata": {
    "ExecuteTime": {
     "end_time": "2022-01-22T16:20:27.940480Z",
     "start_time": "2022-01-22T16:20:27.924334Z"
    }
   },
   "outputs": [
    {
     "name": "stdout",
     "output_type": "stream",
     "text": [
      "3907\n",
      "3731\n"
     ]
    }
   ],
   "source": [
    "original_song_list = list(df1[\"SongName\"])\n",
    "extracted_song_list = list(df2[\"SongName\"])\n",
    "print(len(original_song_list))\n",
    "print(len(extracted_song_list))"
   ]
  },
  {
   "cell_type": "code",
   "execution_count": 12,
   "id": "f928b991",
   "metadata": {
    "ExecuteTime": {
     "end_time": "2022-01-22T16:20:28.870586Z",
     "start_time": "2022-01-22T16:20:28.799204Z"
    }
   },
   "outputs": [],
   "source": [
    "unextracted = []\n",
    "for song in original_song_list:\n",
    "    if song not in extracted_song_list:\n",
    "        unextracted.append(song)"
   ]
  },
  {
   "cell_type": "code",
   "execution_count": 13,
   "id": "e6ab141e",
   "metadata": {
    "ExecuteTime": {
     "end_time": "2022-01-22T16:20:29.472498Z",
     "start_time": "2022-01-22T16:20:29.459645Z"
    }
   },
   "outputs": [
    {
     "data": {
      "text/plain": [
       "164"
      ]
     },
     "execution_count": 13,
     "metadata": {},
     "output_type": "execute_result"
    }
   ],
   "source": [
    "len(unextracted)"
   ]
  },
  {
   "cell_type": "code",
   "execution_count": 14,
   "id": "1911ad3c",
   "metadata": {
    "ExecuteTime": {
     "end_time": "2022-01-22T16:20:30.050594Z",
     "start_time": "2022-01-22T16:20:30.029566Z"
    }
   },
   "outputs": [],
   "source": [
    "df1.set_index(\"SongName\", inplace=True)\n",
    "df2.set_index(\"SongName\", inplace=True)"
   ]
  },
  {
   "cell_type": "code",
   "execution_count": 15,
   "id": "08ae9616",
   "metadata": {
    "ExecuteTime": {
     "end_time": "2022-01-22T16:20:32.320821Z",
     "start_time": "2022-01-22T16:20:32.303984Z"
    }
   },
   "outputs": [
    {
     "data": {
      "text/html": [
       "<div>\n",
       "<style scoped>\n",
       "    .dataframe tbody tr th:only-of-type {\n",
       "        vertical-align: middle;\n",
       "    }\n",
       "\n",
       "    .dataframe tbody tr th {\n",
       "        vertical-align: top;\n",
       "    }\n",
       "\n",
       "    .dataframe thead th {\n",
       "        text-align: right;\n",
       "    }\n",
       "</style>\n",
       "<table border=\"1\" class=\"dataframe\">\n",
       "  <thead>\n",
       "    <tr style=\"text-align: right;\">\n",
       "      <th></th>\n",
       "      <th>EndTime</th>\n",
       "      <th>ArtistName</th>\n",
       "      <th>msPlayed</th>\n",
       "    </tr>\n",
       "    <tr>\n",
       "      <th>SongName</th>\n",
       "      <th></th>\n",
       "      <th></th>\n",
       "      <th></th>\n",
       "    </tr>\n",
       "  </thead>\n",
       "  <tbody>\n",
       "    <tr>\n",
       "      <th>Saiyaan Ji</th>\n",
       "      <td>2021-02-02 02:08</td>\n",
       "      <td>Yo Yo Honey Singh</td>\n",
       "      <td>64760</td>\n",
       "    </tr>\n",
       "    <tr>\n",
       "      <th>Falling</th>\n",
       "      <td>2021-02-02 02:09</td>\n",
       "      <td>Trevor Daniel</td>\n",
       "      <td>23970</td>\n",
       "    </tr>\n",
       "    <tr>\n",
       "      <th>Shayad</th>\n",
       "      <td>2021-02-02 02:09</td>\n",
       "      <td>Pritam</td>\n",
       "      <td>6210</td>\n",
       "    </tr>\n",
       "    <tr>\n",
       "      <th>Malang (Title Track) [From \"Malang - Unleash The Madness\"]</th>\n",
       "      <td>2021-02-02 02:14</td>\n",
       "      <td>Ved Sharma</td>\n",
       "      <td>287374</td>\n",
       "    </tr>\n",
       "    <tr>\n",
       "      <th>Genda Phool (feat. Payal Dev)</th>\n",
       "      <td>2021-02-02 02:14</td>\n",
       "      <td>Badshah</td>\n",
       "      <td>27705</td>\n",
       "    </tr>\n",
       "  </tbody>\n",
       "</table>\n",
       "</div>"
      ],
      "text/plain": [
       "                                                             EndTime  \\\n",
       "SongName                                                               \n",
       "Saiyaan Ji                                          2021-02-02 02:08   \n",
       "Falling                                             2021-02-02 02:09   \n",
       "Shayad                                              2021-02-02 02:09   \n",
       "Malang (Title Track) [From \"Malang - Unleash Th...  2021-02-02 02:14   \n",
       "Genda Phool (feat. Payal Dev)                       2021-02-02 02:14   \n",
       "\n",
       "                                                           ArtistName  \\\n",
       "SongName                                                                \n",
       "Saiyaan Ji                                          Yo Yo Honey Singh   \n",
       "Falling                                                 Trevor Daniel   \n",
       "Shayad                                                         Pritam   \n",
       "Malang (Title Track) [From \"Malang - Unleash Th...         Ved Sharma   \n",
       "Genda Phool (feat. Payal Dev)                                 Badshah   \n",
       "\n",
       "                                                    msPlayed  \n",
       "SongName                                                      \n",
       "Saiyaan Ji                                             64760  \n",
       "Falling                                                23970  \n",
       "Shayad                                                  6210  \n",
       "Malang (Title Track) [From \"Malang - Unleash Th...    287374  \n",
       "Genda Phool (feat. Payal Dev)                          27705  "
      ]
     },
     "execution_count": 15,
     "metadata": {},
     "output_type": "execute_result"
    }
   ],
   "source": [
    "df1.head()"
   ]
  },
  {
   "cell_type": "code",
   "execution_count": 16,
   "id": "59f4cbf4",
   "metadata": {
    "ExecuteTime": {
     "end_time": "2022-01-22T16:20:32.864969Z",
     "start_time": "2022-01-22T16:20:32.847992Z"
    }
   },
   "outputs": [
    {
     "data": {
      "text/html": [
       "<div>\n",
       "<style scoped>\n",
       "    .dataframe tbody tr th:only-of-type {\n",
       "        vertical-align: middle;\n",
       "    }\n",
       "\n",
       "    .dataframe tbody tr th {\n",
       "        vertical-align: top;\n",
       "    }\n",
       "\n",
       "    .dataframe thead th {\n",
       "        text-align: right;\n",
       "    }\n",
       "</style>\n",
       "<table border=\"1\" class=\"dataframe\">\n",
       "  <thead>\n",
       "    <tr style=\"text-align: right;\">\n",
       "      <th></th>\n",
       "      <th>ArtistName</th>\n",
       "      <th>SongID</th>\n",
       "      <th>Popularity</th>\n",
       "    </tr>\n",
       "    <tr>\n",
       "      <th>SongName</th>\n",
       "      <th></th>\n",
       "      <th></th>\n",
       "      <th></th>\n",
       "    </tr>\n",
       "  </thead>\n",
       "  <tbody>\n",
       "    <tr>\n",
       "      <th>Saiyaan Ji</th>\n",
       "      <td>Yo Yo Honey Singh</td>\n",
       "      <td>39QJ7KkN3L8LLqQqsO85W1</td>\n",
       "      <td>62</td>\n",
       "    </tr>\n",
       "    <tr>\n",
       "      <th>Falling</th>\n",
       "      <td>Trevor Daniel</td>\n",
       "      <td>0Aqi7ArnBrGblW5T6p2jmD</td>\n",
       "      <td>84</td>\n",
       "    </tr>\n",
       "    <tr>\n",
       "      <th>Shayad</th>\n",
       "      <td>Pritam</td>\n",
       "      <td>1smFN2CLqGROu0J0UyvDfL</td>\n",
       "      <td>72</td>\n",
       "    </tr>\n",
       "    <tr>\n",
       "      <th>Malang (Title Track) [From \"Malang - Unleash The Madness\"]</th>\n",
       "      <td>Ved Sharma</td>\n",
       "      <td>25MPTnqXQB1H6OkwSYUXWx</td>\n",
       "      <td>68</td>\n",
       "    </tr>\n",
       "    <tr>\n",
       "      <th>Genda Phool (feat. Payal Dev)</th>\n",
       "      <td>Badshah</td>\n",
       "      <td>0gzu5mm36VJH2Zqu8sQPTf</td>\n",
       "      <td>67</td>\n",
       "    </tr>\n",
       "  </tbody>\n",
       "</table>\n",
       "</div>"
      ],
      "text/plain": [
       "                                                           ArtistName  \\\n",
       "SongName                                                                \n",
       "Saiyaan Ji                                          Yo Yo Honey Singh   \n",
       "Falling                                                 Trevor Daniel   \n",
       "Shayad                                                         Pritam   \n",
       "Malang (Title Track) [From \"Malang - Unleash Th...         Ved Sharma   \n",
       "Genda Phool (feat. Payal Dev)                                 Badshah   \n",
       "\n",
       "                                                                    SongID  \\\n",
       "SongName                                                                     \n",
       "Saiyaan Ji                                          39QJ7KkN3L8LLqQqsO85W1   \n",
       "Falling                                             0Aqi7ArnBrGblW5T6p2jmD   \n",
       "Shayad                                              1smFN2CLqGROu0J0UyvDfL   \n",
       "Malang (Title Track) [From \"Malang - Unleash Th...  25MPTnqXQB1H6OkwSYUXWx   \n",
       "Genda Phool (feat. Payal Dev)                       0gzu5mm36VJH2Zqu8sQPTf   \n",
       "\n",
       "                                                    Popularity  \n",
       "SongName                                                        \n",
       "Saiyaan Ji                                                  62  \n",
       "Falling                                                     84  \n",
       "Shayad                                                      72  \n",
       "Malang (Title Track) [From \"Malang - Unleash Th...          68  \n",
       "Genda Phool (feat. Payal Dev)                               67  "
      ]
     },
     "execution_count": 16,
     "metadata": {},
     "output_type": "execute_result"
    }
   ],
   "source": [
    "df2.head()"
   ]
  },
  {
   "cell_type": "code",
   "execution_count": 17,
   "id": "a1051961",
   "metadata": {
    "ExecuteTime": {
     "end_time": "2022-01-22T16:20:34.357334Z",
     "start_time": "2022-01-22T16:20:34.345389Z"
    }
   },
   "outputs": [],
   "source": [
    "df1.reset_index(inplace=True)\n",
    "df2.reset_index(inplace=True)"
   ]
  },
  {
   "cell_type": "code",
   "execution_count": 18,
   "id": "af849295",
   "metadata": {
    "ExecuteTime": {
     "end_time": "2022-01-22T16:20:34.894637Z",
     "start_time": "2022-01-22T16:20:34.890642Z"
    }
   },
   "outputs": [
    {
     "name": "stdout",
     "output_type": "stream",
     "text": [
      "(3907, 4)\n",
      "(3731, 4)\n"
     ]
    }
   ],
   "source": [
    "print(df1.shape)\n",
    "print(df2.shape)"
   ]
  },
  {
   "cell_type": "code",
   "execution_count": 19,
   "id": "4d8a6139",
   "metadata": {
    "ExecuteTime": {
     "end_time": "2022-01-22T16:20:36.235787Z",
     "start_time": "2022-01-22T16:20:36.215723Z"
    }
   },
   "outputs": [
    {
     "data": {
      "text/plain": [
       "Index(['SongName', 'ArtistName', 'SongID', 'Popularity'], dtype='object')"
      ]
     },
     "execution_count": 19,
     "metadata": {},
     "output_type": "execute_result"
    }
   ],
   "source": [
    "# inner join on SongName\n",
    "df2.columns"
   ]
  },
  {
   "cell_type": "code",
   "execution_count": 20,
   "id": "ed56be2d",
   "metadata": {
    "ExecuteTime": {
     "end_time": "2022-01-22T16:20:37.789751Z",
     "start_time": "2022-01-22T16:20:37.765243Z"
    }
   },
   "outputs": [
    {
     "data": {
      "text/html": [
       "<div>\n",
       "<style scoped>\n",
       "    .dataframe tbody tr th:only-of-type {\n",
       "        vertical-align: middle;\n",
       "    }\n",
       "\n",
       "    .dataframe tbody tr th {\n",
       "        vertical-align: top;\n",
       "    }\n",
       "\n",
       "    .dataframe thead th {\n",
       "        text-align: right;\n",
       "    }\n",
       "</style>\n",
       "<table border=\"1\" class=\"dataframe\">\n",
       "  <thead>\n",
       "    <tr style=\"text-align: right;\">\n",
       "      <th></th>\n",
       "      <th>SongName</th>\n",
       "      <th>EndTime</th>\n",
       "      <th>ArtistName</th>\n",
       "      <th>msPlayed</th>\n",
       "      <th>SongID</th>\n",
       "      <th>Popularity</th>\n",
       "    </tr>\n",
       "  </thead>\n",
       "  <tbody>\n",
       "    <tr>\n",
       "      <th>0</th>\n",
       "      <td>Saiyaan Ji</td>\n",
       "      <td>2021-02-02 02:08</td>\n",
       "      <td>Yo Yo Honey Singh</td>\n",
       "      <td>64760</td>\n",
       "      <td>39QJ7KkN3L8LLqQqsO85W1</td>\n",
       "      <td>62</td>\n",
       "    </tr>\n",
       "    <tr>\n",
       "      <th>1</th>\n",
       "      <td>Falling</td>\n",
       "      <td>2021-02-02 02:09</td>\n",
       "      <td>Trevor Daniel</td>\n",
       "      <td>23970</td>\n",
       "      <td>0Aqi7ArnBrGblW5T6p2jmD</td>\n",
       "      <td>84</td>\n",
       "    </tr>\n",
       "    <tr>\n",
       "      <th>2</th>\n",
       "      <td>Shayad</td>\n",
       "      <td>2021-02-02 02:09</td>\n",
       "      <td>Pritam</td>\n",
       "      <td>6210</td>\n",
       "      <td>1smFN2CLqGROu0J0UyvDfL</td>\n",
       "      <td>72</td>\n",
       "    </tr>\n",
       "    <tr>\n",
       "      <th>3</th>\n",
       "      <td>Malang (Title Track) [From \"Malang - Unleash T...</td>\n",
       "      <td>2021-02-02 02:14</td>\n",
       "      <td>Ved Sharma</td>\n",
       "      <td>287374</td>\n",
       "      <td>25MPTnqXQB1H6OkwSYUXWx</td>\n",
       "      <td>68</td>\n",
       "    </tr>\n",
       "    <tr>\n",
       "      <th>4</th>\n",
       "      <td>Genda Phool (feat. Payal Dev)</td>\n",
       "      <td>2021-02-02 02:14</td>\n",
       "      <td>Badshah</td>\n",
       "      <td>27705</td>\n",
       "      <td>0gzu5mm36VJH2Zqu8sQPTf</td>\n",
       "      <td>67</td>\n",
       "    </tr>\n",
       "    <tr>\n",
       "      <th>...</th>\n",
       "      <td>...</td>\n",
       "      <td>...</td>\n",
       "      <td>...</td>\n",
       "      <td>...</td>\n",
       "      <td>...</td>\n",
       "      <td>...</td>\n",
       "    </tr>\n",
       "    <tr>\n",
       "      <th>3726</th>\n",
       "      <td>Back To Black</td>\n",
       "      <td>2021-09-17 09:17</td>\n",
       "      <td>Amy Winehouse</td>\n",
       "      <td>241293</td>\n",
       "      <td>18XlJEroUwFo0tLZxscgXE</td>\n",
       "      <td>79</td>\n",
       "    </tr>\n",
       "    <tr>\n",
       "      <th>3727</th>\n",
       "      <td>Where Do We Go From Here</td>\n",
       "      <td>2021-09-17 09:20</td>\n",
       "      <td>Charles Bradley</td>\n",
       "      <td>191337</td>\n",
       "      <td>0fsEFwLSJTSHSawhe864Cp</td>\n",
       "      <td>69</td>\n",
       "    </tr>\n",
       "    <tr>\n",
       "      <th>3728</th>\n",
       "      <td>Way down We Go - Stripped</td>\n",
       "      <td>2021-09-17 09:25</td>\n",
       "      <td>KALEO</td>\n",
       "      <td>208213</td>\n",
       "      <td>5I2UElY0XPnPhQhBTxBcq3</td>\n",
       "      <td>60</td>\n",
       "    </tr>\n",
       "    <tr>\n",
       "      <th>3729</th>\n",
       "      <td>Let's Talk It Over</td>\n",
       "      <td>2021-09-17 09:28</td>\n",
       "      <td>Lee Fields</td>\n",
       "      <td>180200</td>\n",
       "      <td>0o2lMW2T77pq8utWLQ4b2U</td>\n",
       "      <td>54</td>\n",
       "    </tr>\n",
       "    <tr>\n",
       "      <th>3730</th>\n",
       "      <td>The Gentle Rain - RJD2 Remix</td>\n",
       "      <td>2021-09-17 09:34</td>\n",
       "      <td>Astrud Gilberto</td>\n",
       "      <td>359413</td>\n",
       "      <td>5TuICc3rZeDaNP7mpRqlFj</td>\n",
       "      <td>56</td>\n",
       "    </tr>\n",
       "  </tbody>\n",
       "</table>\n",
       "<p>3731 rows × 6 columns</p>\n",
       "</div>"
      ],
      "text/plain": [
       "                                               SongName           EndTime  \\\n",
       "0                                            Saiyaan Ji  2021-02-02 02:08   \n",
       "1                                               Falling  2021-02-02 02:09   \n",
       "2                                                Shayad  2021-02-02 02:09   \n",
       "3     Malang (Title Track) [From \"Malang - Unleash T...  2021-02-02 02:14   \n",
       "4                         Genda Phool (feat. Payal Dev)  2021-02-02 02:14   \n",
       "...                                                 ...               ...   \n",
       "3726                                      Back To Black  2021-09-17 09:17   \n",
       "3727                           Where Do We Go From Here  2021-09-17 09:20   \n",
       "3728                          Way down We Go - Stripped  2021-09-17 09:25   \n",
       "3729                                 Let's Talk It Over  2021-09-17 09:28   \n",
       "3730                       The Gentle Rain - RJD2 Remix  2021-09-17 09:34   \n",
       "\n",
       "             ArtistName  msPlayed                  SongID  Popularity  \n",
       "0     Yo Yo Honey Singh     64760  39QJ7KkN3L8LLqQqsO85W1          62  \n",
       "1         Trevor Daniel     23970  0Aqi7ArnBrGblW5T6p2jmD          84  \n",
       "2                Pritam      6210  1smFN2CLqGROu0J0UyvDfL          72  \n",
       "3            Ved Sharma    287374  25MPTnqXQB1H6OkwSYUXWx          68  \n",
       "4               Badshah     27705  0gzu5mm36VJH2Zqu8sQPTf          67  \n",
       "...                 ...       ...                     ...         ...  \n",
       "3726      Amy Winehouse    241293  18XlJEroUwFo0tLZxscgXE          79  \n",
       "3727    Charles Bradley    191337  0fsEFwLSJTSHSawhe864Cp          69  \n",
       "3728              KALEO    208213  5I2UElY0XPnPhQhBTxBcq3          60  \n",
       "3729         Lee Fields    180200  0o2lMW2T77pq8utWLQ4b2U          54  \n",
       "3730    Astrud Gilberto    359413  5TuICc3rZeDaNP7mpRqlFj          56  \n",
       "\n",
       "[3731 rows x 6 columns]"
      ]
     },
     "execution_count": 20,
     "metadata": {},
     "output_type": "execute_result"
    }
   ],
   "source": [
    "pd.concat([df1, df2.drop([\"SongName\", \"ArtistName\"], axis=1)], axis=1, join=\"inner\")"
   ]
  },
  {
   "cell_type": "code",
   "execution_count": 21,
   "id": "330c2ca4",
   "metadata": {
    "ExecuteTime": {
     "end_time": "2022-01-22T16:20:53.533697Z",
     "start_time": "2022-01-22T16:20:53.493836Z"
    }
   },
   "outputs": [],
   "source": [
    "joined_df = pd.concat([df1, df2.drop([\"SongName\", \"ArtistName\"], axis=1)], axis=1, join=\"inner\")\n",
    "joined_df.to_csv(\"ExtractedSongInformation\\\\SongInfoWithID.csv\", index=None)"
   ]
  }
 ],
 "metadata": {
  "kernelspec": {
   "display_name": "Python 3 (ipykernel)",
   "language": "python",
   "name": "python3"
  },
  "language_info": {
   "codemirror_mode": {
    "name": "ipython",
    "version": 3
   },
   "file_extension": ".py",
   "mimetype": "text/x-python",
   "name": "python",
   "nbconvert_exporter": "python",
   "pygments_lexer": "ipython3",
   "version": "3.9.7"
  },
  "toc": {
   "base_numbering": 1,
   "nav_menu": {},
   "number_sections": true,
   "sideBar": true,
   "skip_h1_title": false,
   "title_cell": "Table of Contents",
   "title_sidebar": "Contents",
   "toc_cell": false,
   "toc_position": {},
   "toc_section_display": true,
   "toc_window_display": false
  },
  "varInspector": {
   "cols": {
    "lenName": 16,
    "lenType": 16,
    "lenVar": 40
   },
   "kernels_config": {
    "python": {
     "delete_cmd_postfix": "",
     "delete_cmd_prefix": "del ",
     "library": "var_list.py",
     "varRefreshCmd": "print(var_dic_list())"
    },
    "r": {
     "delete_cmd_postfix": ") ",
     "delete_cmd_prefix": "rm(",
     "library": "var_list.r",
     "varRefreshCmd": "cat(var_dic_list()) "
    }
   },
   "oldHeight": 422.25,
   "position": {
    "height": "40px",
    "left": "1085px",
    "right": "20px",
    "top": "139px",
    "width": "395.4px"
   },
   "types_to_exclude": [
    "module",
    "function",
    "builtin_function_or_method",
    "instance",
    "_Feature"
   ],
   "varInspector_section_display": "none",
   "window_display": false
  }
 },
 "nbformat": 4,
 "nbformat_minor": 5
}
